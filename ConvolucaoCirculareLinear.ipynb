{
 "cells": [
  {
   "cell_type": "markdown",
   "metadata": {},
   "source": [
    "Quando definimos a Transformada discrete de Fourier, observamos que o sinal obtido pela tranasformada inversa $\\hat{x}(n)$ é periódico com período N, e que deve-se tomar as $N$ primeiras amostras para representar o sinal original.\n",
    "\n",
    "Pelas propriedades da Trnasformada de Fourier, se $X[k]$ é a Transformada de Fourier no Tempo Discreto de $x(n)$, então $e^{-j\\frac{2\\pi k}{N}m}X[k]$ é a Transformada de Fourier de $x(n-m)$. Porém como $\\hat{x}(n)$ é periódica, o deslocamento será circular, ou seja obtemos $x_1(n) = x[(n-m)\\mod N]$"
   ]
  },
  {
   "cell_type": "code",
   "execution_count": 100,
   "metadata": {},
   "outputs": [
    {
     "data": {
      "text/plain": [
       "<StemContainer object of 3 artists>"
      ]
     },
     "execution_count": 100,
     "metadata": {},
     "output_type": "execute_result"
    },
    {
     "data": {
      "image/png": "[encoded data removed]",
      "text/plain": [
       "<Figure size 432x288 with 1 Axes>"
      ]
     },
     "metadata": {
      "needs_background": "light"
     },
     "output_type": "display_data"
    }
   ],
   "source": [
    "import numpy as np\n",
    "import matplotlib.pyplot as plt\n",
    "import scipy as scp\n",
    "\n",
    "L = 5 #Tamanho da janela\n",
    "N = 8 #Tamanho da FFT\n",
    "\n",
    "x = [1, 1, 1, 1, 1, 1, -1, -1]\n",
    "\n",
    "#plt.stem(x,label='xn)',use_line_collection=True,)\n",
    "\n",
    "Xk = scp.fft(x,N)\n",
    "\n",
    "m = 1 #Deslocamento\n",
    "\n",
    "for k in range(0,N):\n",
    "    Xkm[k] = Xk[k]*np.exp(-1j*2*np.pi*k*m/N)\n",
    " \n",
    "xhat = scp.ifft(Xkm,N)\n",
    "\n",
    "plt.stem(np.real(xhat),label='x recuperado)',use_line_collection=True,)\n",
    "\n"
   ]
  },
  {
   "cell_type": "markdown",
   "metadata": {},
   "source": [
    "Dados dois sinais, $x(n)$ e $h(n)$ podemos realizar sua convolução obtendo DFT de cada, $X(k)$ e $H(k)$, multiplicando o aplicando a tranformada inversa."
   ]
  },
  {
   "cell_type": "code",
   "execution_count": 103,
   "metadata": {},
   "outputs": [
    {
     "name": "stderr",
     "output_type": "stream",
     "text": [
      "/opt/anaconda3/lib/python3.7/site-packages/ipykernel_launcher.py:20: ComplexWarning: Casting complex values to real discards the imaginary part\n"
     ]
    },
    {
     "data": {
      "text/plain": [
       "<StemContainer object of 3 artists>"
      ]
     },
     "execution_count": 103,
     "metadata": {},
     "output_type": "execute_result"
    },
    {
     "data": {
      "image/png": "[encoded data removed]",
      "text/plain": [
       "<Figure size 432x288 with 1 Axes>"
      ]
     },
     "metadata": {
      "needs_background": "light"
     },
     "output_type": "display_data"
    }
   ],
   "source": [
    "import numpy as np\n",
    "import matplotlib.pyplot as plt\n",
    "import scipy as scp\n",
    "\n",
    "L = 5 #Tamanho da janela\n",
    "N = 8 #Tamanho da FFT\n",
    "\n",
    "x = [1, 1, 1, 1, 1, 1, 1, 1]\n",
    "\n",
    "h = [0.5, 0.5]\n",
    "\n",
    "#plt.stem(x,label='xn)',use_line_collection=True,)\n",
    "\n",
    "Xk = scp.fft(x,N)\n",
    "Hk = scp.fft(h, N)\n",
    "\n",
    "Yk = np.zeros(N)\n",
    "\n",
    "for i in range(0,N):\n",
    "    Yk[i] = Xk[i]*Hk[i]\n",
    "    \n",
    "y = scp.ifft(Yk,N)\n",
    "\n",
    "#plt.stem(np.real(y),label='x recuperado)',use_line_collection=True,)\n",
    "\n",
    "y_linear = np.convolve(x, h)\n",
    "\n",
    "plt.stem(np.real(y_linear),label='x recuperado)',use_line_collection=True,)\n"
   ]
  },
  {
   "cell_type": "markdown",
   "metadata": {},
   "source": [
    "## Filtro Casado\n",
    "\n",
    "Embora ainda não tenhamos estutado of filtros digitais, com o conhecimento adquirido sobre convolução, podemos analisar uma estrtura bastante utilizada em receptores e detectores de sinais que são os filtros casados(do inglês matched filters).\n",
    "\n",
    "Inicialmente vamos considerar um sinal $x(n)$ de duração finita com $N$ pontos, e cuja transformda de Fourier é dada por $X(k).$ Queremos obter um sinal $h(n)$ cuja convolução com $x(n)$ produza o valor máximo quando os sinais estiver sobrepostos (ou casados).\n",
    "\n",
    "Para tanto faremos vamos começar no tempo contínuo, considerando que o sinal $x(t)$ tem transformada $X(j\\Omega)$, e duratção $T$ instantes de tempo. O filtro que queremos temo formato $$H(j\\Omega) = X^*(j\\Omega)e^{j2\\pi f T},$$ sendo $*$ o conjugado complexo. No tempo discreto podemos escrever $$H(k) = X^*(k)e^{-j2k\\pi F_s T/N},$$ sendo $F_s$ a frequência de amostragem. Pode-se mostrar que o período de duração do sinal $T$, terá $(N-1)/F_s$ amostras, assim $$H(k) = X^*(k)e^{-j2k\\pi F_s (N-1)/Fs/N} = X^*(k)e^{-j2k\\pi (N-1)/N},$$\n",
    "aplicando a transformada inversa chegamos a $$h(n) = x(N - n -1),$$ ou seja, o filtro que queremos é uma versão de $x(n)$ intertida no tempo a atrasada de $N$ amostras."
   ]
  },
  {
   "cell_type": "markdown",
   "metadata": {},
   "source": [
    "Como exemplo, seja $x(n)$ e o respectivo filtro casado $h(n)$ representados nas Figuras abaixo\n",
    "\n",
    "![title](img/sinaisMF.png)\n",
    "\n",
    "A convolução de desses sinais prodirá o sinal $y(n)$\n",
    "\n",
    "![title](img/SaidaMF.png)\n",
    "\n",
    "\n",
    "cujo pico ocorre exatamente quando os sinais estiverem casados.\n",
    "\n"
   ]
  },
  {
   "cell_type": "markdown",
   "metadata": {},
   "source": [
    "Uma das aplicações do filtro casado é determinar a presença do sinal quando há ruído. Por exemplo, considere que o sinal $x(n)$ apresentado acima é contaminado com um rurído gaussiano gerando $\\eta(n)$ gerando o sinal $x_1(n) = x(n) + \\eta(n)$ mostrad a seguir."
   ]
  },
  {
   "cell_type": "code",
   "execution_count": 11,
   "metadata": {},
   "outputs": [
    {
     "name": "stdout",
     "output_type": "stream",
     "text": [
      "[ 1.03925431  0.13508066 -0.1601541   0.52167668  0.35799396]\n"
     ]
    },
    {
     "data": {
      "text/plain": [
       "<StemContainer object of 3 artists>"
      ]
     },
     "execution_count": 11,
     "metadata": {},
     "output_type": "execute_result"
    },
    {
     "data": {
      "image/png": "[encoded data removed]",
      "text/plain": [
       "<Figure size 432x288 with 1 Axes>"
      ]
     },
     "metadata": {
      "needs_background": "light"
     },
     "output_type": "display_data"
    }
   ],
   "source": [
    "import numpy as np\n",
    "import matplotlib.pyplot as plt\n",
    "import scipy as scp\n",
    "\n",
    "L = 5 #Tamanho da janela\n",
    "N = 8 #Tamanho da FFT\n",
    "\n",
    "x = [1, 1, 1, -1, -1]\n",
    "\n",
    "eta = np.random.normal(0, 0.5, 5)\n",
    "\n",
    "x1 = x + eta\n",
    "\n",
    "plt.stem(x1,label='xn)',use_line_collection=True,)\n"
   ]
  },
  {
   "cell_type": "markdown",
   "metadata": {},
   "source": [
    "Aplicando o filtro casado ao sinal $x1(n)$ obtemos"
   ]
  },
  {
   "cell_type": "code",
   "execution_count": 14,
   "metadata": {},
   "outputs": [
    {
     "data": {
      "text/plain": [
       "<StemContainer object of 3 artists>"
      ]
     },
     "execution_count": 14,
     "metadata": {},
     "output_type": "execute_result"
    },
    {
     "data": {
      "image/png": "[encoded data removed]",
      "text/plain": [
       "<Figure size 432x288 with 1 Axes>"
      ]
     },
     "metadata": {
      "needs_background": "light"
     },
     "output_type": "display_data"
    }
   ],
   "source": [
    "import numpy as np\n",
    "import matplotlib.pyplot as plt\n",
    "import scipy as scp\n",
    "\n",
    "L = 5 #Tamanho da janela\n",
    "N = 8 #Tamanho da FFT\n",
    "\n",
    "x = [1, 1, 1, -1, -1]\n",
    "\n",
    "eta = np.random.normal(0, 0.5, 5)\n",
    "\n",
    "x1 = x + eta\n",
    "\n",
    "h = [-1, -1, 1, 1, 1]\n",
    "\n",
    "y = np.convolve(x1, h)\n",
    "\n",
    "plt.stem(y,label='xn)',use_line_collection=True,)"
   ]
  },
  {
   "cell_type": "markdown",
   "metadata": {},
   "source": [
    "Outra aplicação para os filtros casados é determinar na recepção, dentre um conjunto possíveis sinais qual foi o transmitido. Para tanto usa-se a estrtutura\n",
    "\n",
    "![title](img/EstruturaMF.png)\n",
    "\n",
    "\n",
    "no qual o sinal recebido passa por vários filtros, cada um casado com o sinal transmitido. O fitro que produzir a maior energia na saída, indica com maior certeza qual sinal foi transmitido.\n",
    "\n",
    "\n",
    "No exemplo a seguir é possível transmitir $x1(n)$, $x2(n)$ ou $x3(n)$, no receptor, tem-se três filtros cujas saídas são comparadas para determinar qual sinal foi transmitido."
   ]
  },
  {
   "cell_type": "code",
   "execution_count": 116,
   "metadata": {},
   "outputs": [
    {
     "name": "stdout",
     "output_type": "stream",
     "text": [
      "Transmitido x2\n"
     ]
    }
   ],
   "source": [
    "import numpy as np\n",
    "import matplotlib.pyplot as plt\n",
    "import scipy as scp\n",
    "\n",
    "def somalista(numeros):\n",
    "    soma = 0\n",
    "    for x in numeros:\n",
    "        soma = x*x + soma\n",
    "    return soma\n",
    "\n",
    "x1 = [1, 1, 1, -1, -1]\n",
    "h1 = [-1, -1, 1, 1, 1]\n",
    "\n",
    "x2 = [1, 1, 1, 1, 1]\n",
    "h2 = [1, 1, 1, 1, 1]\n",
    "\n",
    "x3 = [2, 0, 0, 1, 1]\n",
    "h3 = [1, 1, 0, 0, 2]\n",
    "\n",
    "# Descomentar para adicionar ruído Gaussiano\n",
    "eta = np.random.normal(0, 0.45, 5)\n",
    "\n",
    "# Sinal recebido\n",
    "r = x3\n",
    "\n",
    "# Descomentar para adicionar ruído Gaussiano\n",
    "r = r + eta\n",
    "\n",
    "y1 = np.convolve(r, h1)\n",
    "y2 = np.convolve(r, h2)\n",
    "y3 = np.convolve(r, h3)\n",
    "\n",
    "e1 = somalista(y1)\n",
    "e2 = somalista(y2)\n",
    "e3 = somalista(y3)\n",
    "\n",
    "\n",
    "if (e1>e2) and (e1>e3):\n",
    "    print('Transmitido x1')\n",
    "elif (e2>e1) and (e2>e3):\n",
    "    print('Transmitido x2')\n",
    "else:\n",
    "    print('Transmitido x3')\n",
    "\n",
    "#plt.stem(y,label='xn)',use_line_collection=True,)"
   ]
  },
  {
   "cell_type": "markdown",
   "metadata": {},
   "source": [
    "Como outra aplicação da convolução temos a multiplicação de polinômios. Vamos fazer a multiplicação dos polinômios $p(x) = 1 + x + x^2$ e $q(x) = 2 - x - x^2$."
   ]
  },
  {
   "cell_type": "markdown",
   "metadata": {},
   "source": [
    "Vimos que para obter a convolução linear de dois sinais $x(n)$ de comprimento $M$ e $h(n)$ de comprimento $L$ no tempo discreto temos que fazê-los ter comprimento $N = M + L -1$.\n",
    "A convolução é normalmente utilizadas para filtragem, então um dos sinais tem comprimento finito, entretanto, o outro sinal pode ter comprimento infinito é necessário particioná-la em blocos para realizar a convolução. Consideremos que $x(n)$ tem comprimento muito grande comparado com $h(n)$, então podemos particionar fazendo\n",
    "$$\n",
    "x_m(n) = \\left\\{\\begin{array}{c c} X(n - mM_0) & para\\ 0 \\leq n \\leq M-1\\ e\\ m=0, 1, 2, 3, .... \\\\ 0, & c.c \\end{array}\\right.\n",
    "$$\n",
    "\n",
    "Dessa forma fazendo $N = M_0 + L -1$ tem-se \n",
    "$$\n",
    "y_m(n) = \\sum_{k=0}^{N-1}x_m(k)h(n-k),\\ para\\ 0 \\leq n \\leq N-1\n",
    "$$\n",
    "como a convolução do $m$ bloco de $x(n)$ com $h(n)$. A sequência de entrada pode ser escrita como\n",
    "$$\n",
    "x(n) = \\sum_{m}^{\\infty}x_m(n - mM_0)\n",
    "$$\n",
    "e pelo princípio da sobreposição\n",
    "$$\n",
    "y(n) = \\sum_{m}^{\\infty}y_m(n - mM_0)\n",
    "$$\n",
    "\n",
    "Como $N = M + L -1 > M$ então haverá sobreposições dos sucessivos $y_m(n)$, essa sobreposições precisam ser somadas, dai surge o método overlapp and add.\n",
    "\n",
    "\n",
    "![title](img/DinizSlidesFig4.png)\n",
    "\n",
    "\n",
    "Sejam os sinais $x(n) = \\{1, -1, 1, -1, 1, -1, 1, -1, 1, -1\\}$ e $h(n) = \\{1, 1\\}$. Vamos analisar a convolução $x(n)*h(n)$.\n",
    "\n",
    "Exercício: Seja o sinal  (ver arquivo filtroMedia.m)\n",
    "$$\n",
    "x(n) = \\cos(2\\pi n/21)\n",
    "$$\n",
    "que é adicionado a interferência\n",
    "$$\n",
    "\\eta(n) = 0,2*(-1)^n\\delta(n)\n",
    "$$\n",
    "produzindo $r(n) = x(n) + \\eta(n)$.\n",
    "Faça a convolução de $r(n)$ com o filtro $h(n) = \\frac{1}{2}\\delta(0) + \\frac{1}{2}\\delta(1)$, pelo menos 5096 amostras de $r(n)$ sendo processadas em blocos de $M_0 = 128$. Desenhe em um mesmo gráfico $r(n)$ e o resultado da convolução."
   ]
  },
  {
   "cell_type": "code",
   "execution_count": null,
   "metadata": {},
   "outputs": [],
   "source": []
  }
 ],
 "metadata": {
  "kernelspec": {
   "display_name": "Python 3",
   "language": "python",
   "name": "python3"
  },
  "language_info": {
   "codemirror_mode": {
    "name": "ipython",
    "version": 3
   },
   "file_extension": ".py",
   "mimetype": "text/x-python",
   "name": "python",
   "nbconvert_exporter": "python",
   "pygments_lexer": "ipython3",
   "version": "3.7.4"
  }
 },
 "nbformat": 4,
 "nbformat_minor": 2
}
