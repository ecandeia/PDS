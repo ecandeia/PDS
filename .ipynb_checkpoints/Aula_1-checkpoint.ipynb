{
 "cells": [
  {
   "cell_type": "markdown",
   "id": "cc7c2eb9",
   "metadata": {},
   "source": [
    "# Processamento Digital de Sinais\n",
    "\n",
    "\n",
    "## Objetivo: \n",
    "\n",
    "Apresentar os conceitos básicos de Processamento de Sinais e sua aplicações, iniciado da amostragem e digitalização, passando pela análise em frequência, e chegando ao projeto de filtros.\n",
    "\n",
    "## Ementa:\n",
    "\n",
    "- Amostragem;\n",
    "- Análise em frequênica: convolução e algoritmos para implementação da transformada rápida de fourier;\n",
    "- Projeto de filtro digitais;\n",
    "- Exemplos de aplicações.\n",
    "\n",
    "## Bilbiografia:\n",
    "\n",
    "- Discrete-Time Signal Processing: Oppenheim. (Disponível na Biblioteca online)\n",
    "- Notas de aula no github (https://github.com/ecandeia/PDS).\n",
    "- Understandign Digital Signal Processing, Richard L. Lyons. Prentice Hall.\n",
    "- Digital Singal Porcessing. João M. Carvalho, Edmar C. Gurjão, Luciana R. Veloso e Carlos D. M. Regis. Momentum Press.\n",
    "- Blog DSP Related: https://www.dsprelated.com/blogs-1/nf/Rick_Lyons.php\n",
    "- Demonstrações no gihub (https://github.com/ecandeia/PDS)\n",
    "\n",
    "## Avaliação: \n",
    "\n",
    "Tarefas durante as unidades, seguido de um trabalho sobre cada tema.\n"
   ]
  },
  {
   "cell_type": "code",
   "execution_count": null,
   "id": "c84bad16",
   "metadata": {},
   "outputs": [],
   "source": []
  }
 ],
 "metadata": {
  "kernelspec": {
   "display_name": "Python 3 (ipykernel)",
   "language": "python",
   "name": "python3"
  },
  "language_info": {
   "codemirror_mode": {
    "name": "ipython",
    "version": 3
   },
   "file_extension": ".py",
   "mimetype": "text/x-python",
   "name": "python",
   "nbconvert_exporter": "python",
   "pygments_lexer": "ipython3",
   "version": "3.8.2"
  }
 },
 "nbformat": 4,
 "nbformat_minor": 5
}
