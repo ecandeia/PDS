{
 "cells": [
  {
   "cell_type": "markdown",
   "id": "62d04490",
   "metadata": {},
   "source": [
    "# Processamento Digital de Sinais\n",
    "\n",
    "\n",
    "## Objetivo: \n",
    "\n",
    "Apresentar os conceitos básicos de Processamento de Sinais e sua aplicações, iniciando da amostragem e digitalização, passando pela análise em frequência, e chegando ao projeto de filtros.\n",
    "\n",
    "## Ementa:\n",
    "\n",
    "- Amostragem;\n",
    "- Análise em frequência: convolução e algoritmos para implementação da transformada rápida de Fourier;\n",
    "- Projeto de filtros digitais;\n",
    "- Exemplos de aplicações.\n",
    "\n",
    "## Bibliografia:\n",
    "\n",
    "- Discrete-Time Signal Processing: Oppenheim. (Disponível na Biblioteca online)\n",
    "- Notas de aula no github (https://github.com/ecandeia/PDS).\n",
    "- Understanding Digital Signal Processing, Richard L. Lyons. Prentice Hall.\n",
    "- Digital Signal Porcessing. João M. Carvalho, Edmar C. Gurjão, Luciana R. Veloso e Carlos D. M. Regis. Momentum Press.\n",
    "- Blog DSP Related: https://www.dsprelated.com/blogs-1/nf/Rick_Lyons.php\n",
    "- Demonstrações no Github (https://github.com/ecandeia/PDS)\n",
    "\n",
    "## Avaliação: \n",
    "\n",
    "Tarefas durante as unidades, seguindo de um trabalho sobre cada tema.\n"
   ]
  },
  {
   "cell_type": "markdown",
   "id": "4f17e3f5",
   "metadata": {},
   "source": [
    "Lembremos das transformadas de Fourier\n",
    "- Tempo contínuo: $$X(j\\Omega) = \\int_{-\\infty}^{\\infty}x(t)e^j{\\Omega t}dt$$\n",
    "- Tempo discreto: $$X(e^{j\\omega}) = \\sum_{n=-\\infty}^{\\infty}x(n)e^{-j\\omega n}$$\n",
    "\n",
    "$X(e^{j\\omega})$ é uma função periódica com período $2\\pi$.\n",
    "\n",
    "**Exemplo:** Seja $x(n) = \\frac{1}{3}\\delta(n-1) + \\frac{1}{3}\\delta(n) + \\frac{1}{3}\\delta(n+1)$. Calcula e esboce $X(e^{j\\omega}$)."
   ]
  },
  {
   "cell_type": "code",
   "execution_count": 16,
   "id": "60c75b42",
   "metadata": {},
   "outputs": [
    {
     "data": {
      "image/png": "[encoded data removed]",
      "text/plain": [
       "<Figure size 432x288 with 2 Axes>"
      ]
     },
     "metadata": {
      "needs_background": "light"
     },
     "output_type": "display_data"
    }
   ],
   "source": [
    "import numpy as np\n",
    "import matplotlib.pyplot as plt\n",
    "\n",
    "omega = np.linspace(0,2*np.pi,100)\n",
    "\n",
    "AbsX = np.abs(0.33*(1 + 2*np.cos(omega)))#sqrt(pow(0.33*(1 + 2*np.cos(omega)),2))\n",
    "\n",
    "AngleX = np.angle(0.33*(1 + 2*np.cos(omega)))\n",
    "plt.subplot(2, 1, 1)\n",
    "plt.plot(omega, AbsX)\n",
    "\n",
    "plt.subplot(2, 1, 2)\n",
    "plt.plot(omega,AngleX)\n",
    "plt.show()"
   ]
  },
  {
   "cell_type": "code",
   "execution_count": null,
   "id": "5d3d179f",
   "metadata": {},
   "outputs": [],
   "source": []
  }
 ],
 "metadata": {
  "kernelspec": {
   "display_name": "Python 3 (ipykernel)",
   "language": "python",
   "name": "python3"
  },
  "language_info": {
   "codemirror_mode": {
    "name": "ipython",
    "version": 3
   },
   "file_extension": ".py",
   "mimetype": "text/x-python",
   "name": "python",
   "nbconvert_exporter": "python",
   "pygments_lexer": "ipython3",
   "version": "3.8.2"
  }
 },
 "nbformat": 4,
 "nbformat_minor": 5
}
