{
 "cells": [
  {
   "cell_type": "markdown",
   "id": "dc60580b",
   "metadata": {},
   "source": [
    "## Filtros FIR com resposta linear\n",
    "\n",
    "Para que um sistema $h(n)$ não distorça o sinal é preciso que\n",
    "- $|H(\\omega)| = k$, e\n",
    "- $\\angle H(\\omega) = -\\omega \\alpha$."
   ]
  },
  {
   "cell_type": "markdown",
   "id": "9df311c7",
   "metadata": {},
   "source": [
    "Vamos usar como exemplo um sistema passa-baixas:\n",
    "$$\n",
    "H_{pb}(\\omega) = \\left\\{\\begin{array}{c c}e^{-j\\omega\\alpha}, & |\\omega| < \\omega_c \\\\ 0, & \\omega_c < |\\omega|  \\leq \\pi \\end{array}\\right.\n",
    "$$\n",
    "eno tempo\n",
    "$$\n",
    "h_{pb}(n) = \\frac{\\sin\\omega_c(n - \\alpha)}{\\pi(n - \\alpha)}\n",
    "$$\n",
    "\n",
    "Vamos escolher valores aleatórios para $\\omega_c$ e $\\alpha$, tais como $\\omega_c = 0,4\\pi$ e $\\alpha = 5$, que produz $h(n)$ como representado na figura gerada no link:\n",
    "https://colab.research.google.com/drive/1037uH2qL2-_kXlf3NSi3oKmczBk5KV8-?usp=sharing\n",
    "\n",
    "No exemplo acima, fazendo $\\alpha = 4,5$, também se obtém um $h(n)$ simétrico, pois $2*\\alpha$ é inteiro. O mesmo não ocorre se $\\alpha = 4,3$ (teste no código)."
   ]
  },
  {
   "cell_type": "code",
   "execution_count": 2,
   "id": "70f5fc55",
   "metadata": {},
   "outputs": [
    {
     "ename": "NameError",
     "evalue": "name 'linspace' is not defined",
     "output_type": "error",
     "traceback": [
      "\u001b[0;31m---------------------------------------------------------------------------\u001b[0m",
      "\u001b[0;31mNameError\u001b[0m                                 Traceback (most recent call last)",
      "Input \u001b[0;32mIn [2]\u001b[0m, in \u001b[0;36m<cell line: 3>\u001b[0;34m()\u001b[0m\n\u001b[1;32m      1\u001b[0m \u001b[38;5;28;01mimport\u001b[39;00m \u001b[38;5;21;01mnumpy\u001b[39;00m \u001b[38;5;28;01mas\u001b[39;00m \u001b[38;5;21;01mnp\u001b[39;00m\n\u001b[0;32m----> 3\u001b[0m n \u001b[38;5;241m=\u001b[39m \u001b[43mlinspace\u001b[49m(\u001b[38;5;241m0\u001b[39m,\u001b[38;5;241m9\u001b[39m)\n",
      "\u001b[0;31mNameError\u001b[0m: name 'linspace' is not defined"
     ]
    }
   ],
   "source": []
  },
  {
   "cell_type": "code",
   "execution_count": null,
   "id": "b170b6f5",
   "metadata": {},
   "outputs": [],
   "source": []
  }
 ],
 "metadata": {
  "kernelspec": {
   "display_name": "Python 3 (ipykernel)",
   "language": "python",
   "name": "python3"
  },
  "language_info": {
   "codemirror_mode": {
    "name": "ipython",
    "version": 3
   },
   "file_extension": ".py",
   "mimetype": "text/x-python",
   "name": "python",
   "nbconvert_exporter": "python",
   "pygments_lexer": "ipython3",
   "version": "3.8.2"
  }
 },
 "nbformat": 4,
 "nbformat_minor": 5
}
