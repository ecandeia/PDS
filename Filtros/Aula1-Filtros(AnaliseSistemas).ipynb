{
 "cells": [
  {
   "cell_type": "markdown",
   "metadata": {},
   "source": [
    "## <font color='blue'>Análise de Sistemas no Tempo Discreto</font>\n",
    "\n",
    "Um sistema linear invariante ao deslocamento tem relação entrada $x(n)$, saída $y(n)$ dada por\n",
    "$$\n",
    "y(n) = x(n)* h(n)\n",
    "$$\n",
    "sendo $h(n)$ a resposta ao impulso do sistema.\n",
    "\n",
    "Aplicando a Transformada $z$ \n",
    "$$\n",
    "Y(z) = H(z)X(z).\n",
    "$$ \n",
    "Para analisar no domínio da frequência, fazemos $z = re^{j\\omega}$ e faremos $r =1$, logo\n",
    "$$\n",
    "Y(e^{j\\omega}) = H(e^{j\\omega})X(e^{j\\omega})\n",
    "$$\n",
    "e devemos analisar as relações de módulo e fase\n",
    "$$\n",
    "|Y(e^{j\\omega})| = |H(e^{j\\omega})|\\cdot |X(e^{j\\omega})|, \\nonumber \\\\\n",
    "\\angle Y(e^{j\\omega}) = \\angle H(e^{j\\omega}) + \\angle X(e^{j\\omega}) \\nonumber \n",
    "$$\n",
    "\n",
    "Seja um filtro passa-baixas ideal, dado por  \n",
    "$$\n",
    "H_{pb}(e^{j\\omega}) =  \\left\\{ \\begin{array}{c c} 1, & |\\omega| < \\omega_c \\\\ 0, & \\omega_c < |\\omega| \\leq \\pi.  \\end{array}\\right.\n",
    "$$\n",
    "lembrando que essa função é periódica, com período $2\\pi$.\n",
    "No tempo\n",
    "$$\n",
    "h_{pb}(n) = \\frac{\\sin(\\omega_c n)}{\\pi n}\n",
    "$$\n",
    "Como ficam o módulo e a fase?"
   ]
  },
  {
   "cell_type": "markdown",
   "metadata": {},
   "source": [
    "### <font color='blue'>Distorção de Fase e Atraso</font>\n",
    "\n",
    "Seja o sistema linear de atraso ideal\n",
    "$$\n",
    "h(n) = \\delta(n - n_d)\n",
    "$$\n",
    "com \n",
    "$$\n",
    "H(e^{j\\omega}) = e^{-j\\omega n_d}\\ e\\ \n",
    "|H(e^{j\\omega})| = 1, \\angle H(e^{j\\omega}) = -\\omega n_d\\ |\\omega| < \\pi.\n",
    "$$\n",
    "\n",
    "Para tornarmos o filtro ideal um sistema realizável, vamos inicialmente deslocar sua resposta de $n_d$ posições, ou seja, vamos convoluir $h_{pb}(n)$ com $h(n)$ do atraso ideal, e obteremos\n",
    "$$\n",
    "H_{pb}(e^{j\\omega}) = \\left\\{\\begin{array}{c c} e^{-j\\omega n_d} & |\\omega| < \\omega_c \\\\ 0, & \\omega_c < |\\omega| \\leq \\pi\\end{array}\\right.\n",
    "$$\n",
    "e assim\n",
    "$$\n",
    "h_{pb}(n) = \\frac{\\sin\\omega_c(n - n_d)}{\\pi(n - n_d)},\\ -\\infty < n < \\infty\n",
    "$$"
   ]
  },
  {
   "cell_type": "markdown",
   "metadata": {},
   "source": [
    "### <font color='blue'>Atraso de grupo (*Group Delay*)</font>\n",
    "\n",
    "Definido como\n",
    "$$\n",
    "\\tau(\\omega) = -\\frac{d}{d\\omega}\\{\\angle H(e^{j\\omega})\\}\n",
    "$$\n",
    "\n",
    "O desvio de $\\tau(\\omega)$ de uma constante indica o grau de não linearidade da fase.\n",
    "\n",
    "Sinal com três pulsos faixa estreita com frequências $\\omega = 0,85\\pi$, $\\omega = 0,25\\pi$ e $\\omega = 0,5\\pi$, e um filtro com as seguintes características\n",
    "\n",
    "![title](img/fig51Oppenheim2aEdicao.png)\n",
    "\n",
    "\n",
    "Sinal de entrada:\n",
    "![title](img/fig52Oppenheim2aEdicao.png)\n",
    "\n",
    "Sinal de saída:\n",
    "![title](img/fig53Oppenheim2aEdicao.png)"
   ]
  },
  {
   "cell_type": "code",
   "execution_count": 1,
   "metadata": {},
   "outputs": [
    {
     "name": "stdout",
     "output_type": "stream",
     "text": [
      "/bin/sh: -c: line 0: syntax error near unexpected token `img/FIRmedia5pontos.png'\r\n",
      "/bin/sh: -c: line 0: `[title](img/FIRmedia5pontos.png)'\r\n"
     ]
    }
   ],
   "source": [
    "![title](img/FIRmedia5pontos.png)"
   ]
  },
  {
   "cell_type": "code",
   "execution_count": null,
   "metadata": {},
   "outputs": [],
   "source": []
  }
 ],
 "metadata": {
  "kernelspec": {
   "display_name": "Python 3 (ipykernel)",
   "language": "python",
   "name": "python3"
  },
  "language_info": {
   "codemirror_mode": {
    "name": "ipython",
    "version": 3
   },
   "file_extension": ".py",
   "mimetype": "text/x-python",
   "name": "python",
   "nbconvert_exporter": "python",
   "pygments_lexer": "ipython3",
   "version": "3.8.2"
  }
 },
 "nbformat": 4,
 "nbformat_minor": 2
}
