{
 "cells": [
  {
   "cell_type": "markdown",
   "metadata": {},
   "source": [
    "## Aplicação de Filtros Resposta Finita ao Impulso"
   ]
  },
  {
   "cell_type": "markdown",
   "metadata": {},
   "source": [
    "Seja o sinal de ECG amostrado com $F_s = 200 Hz$ mostrado na Figura abaixo.\n",
    "\n",
    "\n",
    "![title](img/ECGsemRuido.png)\n",
    "\n",
    "Aplicando a FFT com $N = 512$ obtemos o espectro da figura abaixo, na qual observa-se um nível DC e as componentes do sinal.\n",
    "\n",
    "![title](img/ECGsemRuidoFFT.png)\n"
   ]
  },
  {
   "cell_type": "markdown",
   "metadata": {},
   "source": [
    "Se repetirmos o processo acima para um ECG ($F_s = 200Hz$, $N_FFT = 512$) contaminado com o sinal de 60Hz, obtemos os gráficos abaixo.\n",
    "\n",
    "![title](img/ECGcomRuido.png)\n",
    "\n",
    "![title](img/ECGcomRuidoFFT.png)\n",
    "\n",
    "Observando a Figura acima, vê-se um pico em $k = 154$, que corresponde a $k*F_s/N = 154*200/512 \\approx 60\\ Hz$."
   ]
  },
  {
   "cell_type": "markdown",
   "metadata": {},
   "source": [
    "### <font color='blue'> Filtro para retirar a interferência de $60\\ Hz$ </color>\n"
   ]
  },
  {
   "cell_type": "markdown",
   "metadata": {},
   "source": [
    "Vamos projetar um filtro FIR para retirar a interferência no sinal de ECG. Para tanto vamos considerar os seguintes parâmetros:\n",
    "\n",
    "1. Filtro Refeita faixa;\n",
    "2. Ripple na banda de passagem $1\\ dB$;\n",
    "2. Faixa de rejeição $58\\ a \\ 61\\ Hz$;\n",
    "3. Atenuação na banda de rejeição $60\\ dB$\n",
    "\n",
    "\n",
    "Usando o filterBuilder do MATLAB e ampliando a faixa de rejeição obtemos a resposta mostrada na Figura abaixo\n",
    "\n",
    "![title](img/FiltroRejeitaFaixa1.png)\n",
    "\n",
    "Que tem ordem $M = 853$."
   ]
  },
  {
   "cell_type": "markdown",
   "metadata": {},
   "source": [
    "Aplicando o filtro ao sinal contaminado obtem-se os gráficos da Figura abaixo.\n",
    "\n",
    "![title](img/ECGcomRuidoFiltrado.png)\n",
    "\n",
    "![title](img/ECGcomRuidoFiltradoFFT.png)\n"
   ]
  },
  {
   "cell_type": "code",
   "execution_count": null,
   "metadata": {},
   "outputs": [],
   "source": []
  }
 ],
 "metadata": {
  "kernelspec": {
   "display_name": "Python 3",
   "language": "python",
   "name": "python3"
  },
  "language_info": {
   "codemirror_mode": {
    "name": "ipython",
    "version": 3
   },
   "file_extension": ".py",
   "mimetype": "text/x-python",
   "name": "python",
   "nbconvert_exporter": "python",
   "pygments_lexer": "ipython3",
   "version": "3.7.4"
  }
 },
 "nbformat": 4,
 "nbformat_minor": 2
}
