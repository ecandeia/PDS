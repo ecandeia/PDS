{
 "cells": [
  {
   "cell_type": "markdown",
   "metadata": {},
   "source": [
    "## Filtros Resposta Finita ao Impulso\n",
    "\n",
    "Vamos denominar Finite Response Impulse Reponse (FIR), que são caracterizados pelas equações:\n",
    "$$ y(n) = \\sum_{k=0}^{N-1}h(k)x(n-k)$$\n",
    "$$ H(z) = \\sum_{k=0}^{N-1}h(k)z^{-k}$$\n",
    "sendo $h(k)$, $k = 0, 1, ..., N-1$ a reposta ao impulso do filtro, $H(z)$ sua função de transferência.\n",
    "\n",
    "1. A saída atual depende somente das entradas anteriores;\n",
    "2. Filtros FIR sempre são estáveis;\n",
    "3. Deseja que os filtro tenham fase linear;\n"
   ]
  },
  {
   "cell_type": "markdown",
   "metadata": {},
   "source": [
    "Vamos considerar que temos  a quantidade de carros por minuto que passar por um cruzamento em um determinado local.\n",
    "\n",
    "\n",
    "| Minuto |  1 | 2 | 3 | 4 | 5 | 6 | 7 | 8 | 9 | 10 | \n",
    "|------|------|------|------|------|------|------|------|------|------|------|\n",
    "| Carros/Min  | 10 | 22 | 24 |  42 | 37 | 77 | 89 | 22 | 63 | 9 |\n",
    "|Média (5 min) | - | - | - | - | 27 | 40,4 | 53,8 | 53,4 | 57,6 | 52 |\n",
    "\n",
    "Veja que a média é dada por\n",
    "$$y(n) = \\frac{1}{5}[x(n) + x(n-1) + x(n-2) + x(n - 3) + x(n-4)] = \\frac{1}{5}\\sum_{k=0}^{4}x(n - k)$$\n",
    "e podemos representar pela estrutura abaixo.\n",
    "\n",
    "![title](img/FIRmedia5pontos.png)\n",
    "\n",
    "Observe que temos um filto FIR, com $h(k) = 1/5$, $k = 0, 1, 2, 3, 4$.\n"
   ]
  },
  {
   "cell_type": "markdown",
   "metadata": {},
   "source": [
    "Projetar um filtro consiste em determinar os valores de $h(n)$, $n = 0, 1, ..., N-1$ para que $H(k)$, $k = 0, 1, 2, ..., N-1$ tenha uma formato desejado. Deve-se levar em contato que é possível escolher um dos tipos de filtros (I, II, III ou IV) para que $H(k)$ tenha fase linear.\n",
    "\n",
    "Podemos escrever $$ H(z) = \\sum_{k=0}^{N-1}h(k)z^{-k}$$ como $$ H(z) = \\frac{h(0)z^{N-1} + h(1)z^{N-2} + ... + h(N-1)}{z^{N-1}}$$ o que mostra que existem $N-1$ polos, todos localizados na origem, e portanto os filtro FIR são inerentemente estáveis, visto que estão dentro do círculo unitário.\n"
   ]
  },
  {
   "cell_type": "markdown",
   "metadata": {},
   "source": [
    "### <font color='blue'> Projeto de Filtros FIR por Amostragem em Frequência </color>\n"
   ]
  },
  {
   "cell_type": "markdown",
   "metadata": {},
   "source": [
    "Dada a especificação no domínio da frequência de um filtro $H(e^{j\\omega})$ pode-se retirar amostras nas frequências $\\frac{2\\pi k}{N}$, $k = 0, 1, 2, ..., N-1$ obtendo a sequência $H(k)$ e em seguida aplicar a transformada inversa para obter os coeficientes do filtro $h(n)$. \n",
    "\n",
    "Como representado na figura abaixo, partiindo da resposta em frequência de um filtro passa-baixas (a), retira-se as amostras (b) e o filtro obtido terá resposta exata nos pontos de amostragem, mas aproximada no demais pontos, como representado na figura (c) $\\hat{H}(e^{j\\omega})$.\n",
    "\n",
    "![title](img/aproximacaoFIR.png)\n",
    "\n",
    "Ao aplicar a transformada inversa, considerando os filtro passa-baixas do exemplo anterior e considerando $N$ par obtemos\n",
    "$$\n",
    "h(n) = \\frac{1}{N}\\left[2\\sum_{k=1}^{N/2-1}(-1)^k|H(k)|\\cos[2\\pi k(n-\\alpha)/N] + H(0)\\right]\n",
    "$$\n",
    "sendo $\\alpha = (N-1)/2$. Caso $N$ seja ímpar o somatório se torna $(N-1)/2$."
   ]
  },
  {
   "cell_type": "markdown",
   "metadata": {},
   "source": [
    "Na lista abaixo temos os tipos de filtros:\n",
    "\n",
    "1. Tipo I: $$\n",
    "h(n) = \\frac{1}{N}\\left[2\\sum_{k=1}^{N/2-1}(-1)^k|H(k)|\\cos[2\\pi k(n-\\alpha)/N] + H(0)\\right]\n",
    "$$\n",
    "2. Tipo II: $$\n",
    "h(n) = \\frac{1}{N}\\left[2\\sum_{k=1}^{\\frac{N-1}{2}}(-1)^k|H(k)|\\cos[2\\pi k(n-\\alpha)/N] + H(0)\\right],\n",
    "\\ \\ |H(\\frac{N}{2})| = 0$$\n",
    "3. Tipo III: $$\n",
    "h(n) = \\frac{2}{N}\\left[\\sum_{k=1}^{N/2-1}2|H(k)|\\sin[\\pi k(1 + 2)/N]\\right], \\ \\ |H(0)| = 0$$\n",
    "4. Tipo IV: $$\n",
    "h(n) = \\frac{1}{N}\\left[(-1)^{\\frac{N}{2}}H(\\frac{N}{2}) + 2\\sum_{k=1}^{N/2-1}(-1)^k|H(k)|\\sin[\\pi k(1 + 2n)/N]\\right], \\ \\ |H(0)| = 0$$\n",
    "\n",
    "**Exemplo:** Considere um filtro passa-baixas com banda passante de 0 a 5kHz, frequência de amsotragem de $18 kHz$ e e $N = 9$."
   ]
  },
  {
   "cell_type": "code",
   "execution_count": 12,
   "metadata": {},
   "outputs": [
    {
     "name": "stderr",
     "output_type": "stream",
     "text": [
      "No handles with labels found to put in legend.\n",
      "No handles with labels found to put in legend.\n"
     ]
    },
    {
     "name": "stdout",
     "output_type": "stream",
     "text": [
      "[ 0.07252263 -0.11111111 -0.05912099  0.31993169  0.55555556  0.31993169\n",
      " -0.05912099 -0.11111111  0.07252263]\n"
     ]
    },
    {
     "data": {
      "image/png": "[encoded data removed]",
      "text/plain": [
       "<Figure size 720x216 with 2 Axes>"
      ]
     },
     "metadata": {
      "needs_background": "light"
     },
     "output_type": "display_data"
    }
   ],
   "source": [
    "import numpy as np\n",
    "import scipy as scp\n",
    "import matplotlib.pyplot as plt\n",
    "from scipy import signal\n",
    "\n",
    "N = 9\n",
    "\n",
    "absH = [1, 1, 1, 0, 0, 0, 0, 1, 1]\n",
    "alpha = (N-1)/2\n",
    "\n",
    "h = np.zeros(N)\n",
    "\n",
    "for n in range (0,N):\n",
    "    arg = 0\n",
    "    f = int((N -1)/2)\n",
    "    for k in range(1,f):\n",
    "        arg = arg + 2*absH[k]*np.cos((2*np.pi*k*(n-alpha))/N)\n",
    "    h[n] = (1/N)*(arg + absH[0])\n",
    "\n",
    "Hk = abs(scp.fft(h))\n",
    "\n",
    "print(h)\n",
    "\n",
    "w, h = signal.freqz(h)\n",
    "\n",
    "fig,ax=plt.subplots(2)\n",
    "fig.set_size_inches((10,3))\n",
    "\n",
    "ax[0].plot(w, 20 * np.log10(abs(h)), 'b')\n",
    "ax[0].set_xlabel('k',fontsize=18)\n",
    "ax[0].set_ylabel(r'$|X[k]|$',fontsize=18)\n",
    "#ax[0].set_title('DFT Sinal Janelado',fontsize=18)\n",
    "ax[0].grid()\n",
    "ax[0].legend(loc=0);\n",
    "\n",
    "ax[1].plot(w, angles, 'g')\n",
    "ax[1].set_xlabel('k',fontsize=18)\n",
    "ax[1].set_ylabel(r'$\\angle X[k]$',fontsize=18)\n",
    "#ax[1].set_title('DFT Sinal Janelado',fontsize=18)\n",
    "ax[1].grid()\n",
    "ax[1].legend(loc=0);\n",
    "\n",
    "#plt.plot(w, 20 * np.log10(abs(h)), 'b')\n",
    "#angles = np.unwrap(np.angle(h))\n",
    "#plt.plot(w, angles, 'g')\n",
    "#plt.grid()\n",
    "#plt.show()"
   ]
  },
  {
   "cell_type": "code",
   "execution_count": null,
   "metadata": {},
   "outputs": [],
   "source": []
  }
 ],
 "metadata": {
  "kernelspec": {
   "display_name": "Python 3",
   "language": "python",
   "name": "python3"
  },
  "language_info": {
   "codemirror_mode": {
    "name": "ipython",
    "version": 3
   },
   "file_extension": ".py",
   "mimetype": "text/x-python",
   "name": "python",
   "nbconvert_exporter": "python",
   "pygments_lexer": "ipython3",
   "version": "3.7.4"
  }
 },
 "nbformat": 4,
 "nbformat_minor": 2
}
