{
 "cells": [
  {
   "cell_type": "markdown",
   "id": "78513c04",
   "metadata": {},
   "source": [
    "## Média Sincronizada\n",
    "\n",
    "Considerando um sinal períodico $x(n)$ ao qual é adicionado o ruído $\\eta(n) \\sim \\mathcal{N}(0, \\sigma^2)$, ou seja,\n",
    "$$y(n) = x(n) + \\eta(n)$$. Se desejarmos atenuar o efeito do ruído, podemos considerar o uso da média, como exeplicado a seguir.\n",
    "\n",
    "Sendo $x(n)$ períodico, podemos obter uma sequência $y(n)$ e dividi-la em $M$ sinais menores $y_k(n),\\ k = 1, ..., M$, em seguida sincronizar os $y_k(n)$ e calcular a média\n",
    "$$ y_m(n) = \\frac{1}{M}\\sum_{k=1}^{M}y_k(n) = \\frac{1}{M}\\sum_{k=1}^{M}[x(n) + \\eta(n)].$$\n",
    "\n",
    "Como o ruído tem média zero $\\sum_{k=1}^{M} \\eta(n)$ tem média que tende para zero a medida que $M$ aumenta, com variância $M\\sigma^2$. \n",
    "\n",
    "Esse procedimento está representado no código abaixo."
   ]
  },
  {
   "cell_type": "code",
   "execution_count": null,
   "id": "10af3ba9",
   "metadata": {},
   "outputs": [],
   "source": [
    "## Implementa o método de redução do efeito do ruído em sinais\n",
    "## periódicos pelo uso da média.\n",
    "\n",
    "## Edmar Candeia Gurjão\n",
    "## Versão: 03 de Agosto de 2022\n",
    "\n",
    "from __future__ import division\n",
    "from scipy import signal \n",
    "import numpy as np\n",
    "import scipy as scp\n",
    "import matplotlib.pyplot as plt\n",
    "from numpy import linalg as LA\n",
    "\n",
    "Ns=30 # length of input sequence\n",
    "n = np.arange(Ns) # sample index\n",
    "x = np.cos(np.arange(Ns)*np.pi/2.)\n",
    "\n",
    "y = np.zeros(Ns)\n",
    "\n",
    "ruido = np.random.randn(Ns)\n",
    "\n",
    "# Quantidede de Sinais a serem somados\n",
    "M = 100\n",
    "\n",
    "# Adiciona ruído e acumula os sinais\n",
    "for k in range(M):\n",
    "    y = y + x + np.random.randn(Ns)\n",
    "    \n",
    "#Calcula a média\n",
    "ym = y/M\n",
    "\n",
    "fig,ax=plt.subplots(2)\n",
    "fig.set_size_inches((10,12))\n",
    "\n",
    "\n",
    "ax[0].stem(x,label='input',basefmt='b-')\n",
    "ax[0].set_xlabel('n',fontsize=18)\n",
    "ax[0].set_ylabel(r'$x(n)$',fontsize=18)\n",
    "ax[0].grid()\n",
    "\n",
    "ax[1].stem(ym, label='input',basefmt='b-')\n",
    "ax[1].set_xlabel('n',fontsize=18)\n",
    "ax[1].set_ylabel(r'$y(n)$',fontsize=18)\n",
    "ax[1].grid()\n",
    "\n",
    "## Calcula o Erro médio quadrático\n",
    "ErroMSE = LA.norm(x-ym,2)\n",
    "\n",
    "print(ErroMSE)"
   ]
  },
  {
   "cell_type": "markdown",
   "id": "7071eaa4",
   "metadata": {},
   "source": [
    "A medida que a quanitade de sinais na média ($M$) aumenta, o erro diminui. No código abaixo o valor de $M$ é variado e calcula-se o valor do erro para cada um desses valores. O resultado é apresentado em um gráfico."
   ]
  },
  {
   "cell_type": "code",
   "execution_count": 10,
   "id": "c70a9943",
   "metadata": {},
   "outputs": [
    {
     "data": {
      "image/png": "[encoded data removed]",
      "text/plain": [
       "<Figure size 432x288 with 1 Axes>"
      ]
     },
     "metadata": {
      "needs_background": "light"
     },
     "output_type": "display_data"
    }
   ],
   "source": [
    "## Desenha a curva do Erro Médio Quadrátivo (MSE) a media que a quantidade de sinais\n",
    "## na média aumenta quando se usa o método de redução do efeito do ruído em sinais\n",
    "## periódicos pelo uso da média.\n",
    "\n",
    "## Edmar Candeia Gurjão\n",
    "## Versão: 03 de Agosto de 2022\n",
    "\n",
    "from __future__ import division\n",
    "from scipy import signal \n",
    "import numpy as np\n",
    "import scipy as scp\n",
    "import matplotlib.pyplot as plt\n",
    "from numpy import linalg as LA\n",
    "\n",
    "Ns = 30 # length of input sequence\n",
    "n = np.arange(Ns) # sample index\n",
    "x = np.cos(np.arange(Ns)*np.pi/2.)\n",
    "\n",
    "# Maior valor assumido por M (quantidade de sinais na média) M = 1, 2, ..., Mmax\n",
    "Mmax = 100\n",
    "\n",
    "ErroMSE = np.zeros(Mmax)\n",
    "\n",
    "Nrep = 100 # Número de repetição para o cálculo do MSE médio.\n",
    "\n",
    "# Varia a quantidade de sinais na média\n",
    "for M in range(Mmax):\n",
    "    for k in range(M): # repetições para realizar a média estatística      \n",
    "        \n",
    "        y = np.zeros(Ns)   \n",
    "        \n",
    "        # Adiciona ruído e acumula os sinai\n",
    "        \n",
    "        for i in range(Nrep):\n",
    "            y = y + x + np.random.randn(Ns)\n",
    "            \n",
    "            #Calcula a média\n",
    "            ym = y/M\n",
    "            \n",
    "            # Calcula o Erro médio quadrático\n",
    "            ErroMSE[M] = ErroMSE[M] + LA.norm(x-ym,2)\n",
    "            \n",
    "        # Calcula o valor da média estatística\n",
    "        ErroMSE[M] = ErroMSE[M]/Nrep\n",
    "\n",
    "\n",
    "plt.stem(ErroMSE,label='input',basefmt='b-')\n",
    "plt.xlabel('M',fontsize=18)\n",
    "plt.ylabel(r'MSE(M)',fontsize=18)\n",
    "plt.grid()\n",
    "\n"
   ]
  },
  {
   "cell_type": "code",
   "execution_count": null,
   "id": "41aaef4b",
   "metadata": {},
   "outputs": [],
   "source": []
  }
 ],
 "metadata": {
  "kernelspec": {
   "display_name": "Python 3 (ipykernel)",
   "language": "python",
   "name": "python3"
  },
  "language_info": {
   "codemirror_mode": {
    "name": "ipython",
    "version": 3
   },
   "file_extension": ".py",
   "mimetype": "text/x-python",
   "name": "python",
   "nbconvert_exporter": "python",
   "pygments_lexer": "ipython3",
   "version": "3.8.2"
  }
 },
 "nbformat": 4,
 "nbformat_minor": 5
}
