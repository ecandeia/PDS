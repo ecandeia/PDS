{
 "cells": [
  {
   "cell_type": "markdown",
   "metadata": {},
   "source": [
    "Quando definimos a Transformada discrete de Fourier, observamos que o sinal obtido pela tranasformada inversa $\\hat{x}(n)$ é periódico com período N, e que deve-se tomar as $N$ primeiras amostras para representar o sinal original.\n",
    "\n",
    "Pelas propriedades da Trnasformada de Fourier, se $X[k]$ é a Transformada de Fourier no Tempo Discreto de $x(n)$, então $e^{-j\\frac{2\\pi k}{N}m}X[k]$ é a Transformada de Fourier de $x(n-m)$. Porém como $\\hat{x}(n)$ é periódica, o deslocamento será circular, ou seja obtemos $x_1(n) = x[(n-m)\\mod N]$"
   ]
  },
  {
   "cell_type": "code",
   "execution_count": 100,
   "metadata": {},
   "outputs": [
    {
     "data": {
      "text/plain": [
       "<StemContainer object of 3 artists>"
      ]
     },
     "execution_count": 100,
     "metadata": {},
     "output_type": "execute_result"
    },
    {
     "data": {
      "image/png": "[encoded data removed]",
      "text/plain": [
       "<Figure size 432x288 with 1 Axes>"
      ]
     },
     "metadata": {
      "needs_background": "light"
     },
     "output_type": "display_data"
    }
   ],
   "source": [
    "import numpy as np\n",
    "import matplotlib.pyplot as plt\n",
    "import scipy as scp\n",
    "\n",
    "L = 5 #Tamanho da janela\n",
    "N = 8 #Tamanho da FFT\n",
    "\n",
    "x = [1, 1, 1, 1, 1, 1, -1, -1]\n",
    "\n",
    "#plt.stem(x,label='xn)',use_line_collection=True,)\n",
    "\n",
    "Xk = scp.fft(x,N)\n",
    "\n",
    "m = 1 #Deslocamento\n",
    "\n",
    "for k in range(0,N):\n",
    "    Xkm[k] = Xk[k]*np.exp(-1j*2*np.pi*k*m/N)\n",
    " \n",
    "xhat = scp.ifft(Xkm,N)\n",
    "\n",
    "plt.stem(np.real(xhat),label='x recuperado)',use_line_collection=True,)\n",
    "\n"
   ]
  },
  {
   "cell_type": "markdown",
   "metadata": {},
   "source": [
    "Dados dois sinais, $x(n)$ e $h(n)$ podemos realizar sua convolução obtendo DFT de cada, $X(k)$ e $H(k)$, multiplicando o aplicando a tranformada inversa."
   ]
  },
  {
   "cell_type": "code",
   "execution_count": 103,
   "metadata": {},
   "outputs": [
    {
     "name": "stderr",
     "output_type": "stream",
     "text": [
      "/opt/anaconda3/lib/python3.7/site-packages/ipykernel_launcher.py:20: ComplexWarning: Casting complex values to real discards the imaginary part\n"
     ]
    },
    {
     "data": {
      "text/plain": [
       "<StemContainer object of 3 artists>"
      ]
     },
     "execution_count": 103,
     "metadata": {},
     "output_type": "execute_result"
    },
    {
     "data": {
      "image/png": "[encoded data removed]",
      "text/plain": [
       "<Figure size 432x288 with 1 Axes>"
      ]
     },
     "metadata": {
      "needs_background": "light"
     },
     "output_type": "display_data"
    }
   ],
   "source": [
    "import numpy as np\n",
    "import matplotlib.pyplot as plt\n",
    "import scipy as scp\n",
    "\n",
    "L = 5 #Tamanho da janela\n",
    "N = 8 #Tamanho da FFT\n",
    "\n",
    "x = [1, 1, 1, 1, 1, 1, 1, 1]\n",
    "\n",
    "h = [0.5, 0.5]\n",
    "\n",
    "#plt.stem(x,label='xn)',use_line_collection=True,)\n",
    "\n",
    "Xk = scp.fft(x,N)\n",
    "Hk = scp.fft(h, N)\n",
    "\n",
    "Yk = np.zeros(N)\n",
    "\n",
    "for i in range(0,N):\n",
    "    Yk[i] = Xk[i]*Hk[i]\n",
    "    \n",
    "y = scp.ifft(Yk,N)\n",
    "\n",
    "#plt.stem(np.real(y),label='x recuperado)',use_line_collection=True,)\n",
    "\n",
    "y_linear = np.convolve(x, h)\n",
    "\n",
    "plt.stem(np.real(y_linear),label='x recuperado)',use_line_collection=True,)\n"
   ]
  },
  {
   "cell_type": "markdown",
   "metadata": {},
   "source": [
    "## Filtro Casado\n",
    "\n",
    "Embora ainda não tenhamos estutado of filtros digitais, com o conhecimento adquirido sobre convolução, podemos analisar uma estrtura bastante utilizada em receptores e detectores de sinais que são os filtros casados (do inglês matched filters).\n",
    "\n",
    "Iniciemos lembrando que uma medida de similaridade entre dois sinais $x(n)$ e $y(n)$ é a correlação, definida por\n",
    "$$R(k) = \\sum_{n=-\\infty}^{\\infty}x(n)h(k+n).$$\n",
    "Comparando essa equação com a da convolução entre $x(n)$ e $h(n),$ dada por\n",
    "$$z(n) = \\sum_{n=-\\infty}^{\\infty}x(n)h(k-n),$$ podemos observar que $$R(k) = x(k)*h(-k).$$\n",
    "\n",
    "Vamos considerar um conjunto de sinais de duração finita $x_i(n)$ $i = 1,,,,M$, dado um novo sinal $r(n)$, também de duração finita, ao realizar a correlação desse sinal com cada um dos $x_i(n)$, o sinal obrtido que produzir o maior valor de pico, é o que tem maior correlação. "
   ]
  },
  {
   "cell_type": "markdown",
   "metadata": {},
   "source": [
    "Como exemplo, seja $x(n)$ e uma cópia sua $h(n$)  representados nas Figuras abaixo\n",
    "\n",
    "![title](Figuras/sinaisMF.png)\n",
    "\n",
    "A convolução $x(n)*h(-n)$  produzirá o sinal $y(n)$\n",
    "\n",
    "![title](Figuras/SaidaMF.png)\n",
    "\n",
    "\n",
    "cujo pico ocorre exatamente quando os sinais estiverem casados.\n",
    "\n"
   ]
  },
  {
   "cell_type": "markdown",
   "metadata": {},
   "source": [
    "Vamos agora considerar que podemos receber um sinal de um conjunto finito, podemos construir uma estrutura como representada na Figura abaixo, sendo que cada $h_i(n)$ é uma cópia de um possilvel sinal. \n",
    "\n",
    "![title](Figuras/EstruturaMF.png)\n",
    "\n",
    "\n",
    "O sinal recebido passa por vários filtros, cada um casado com um sinal transmitido. O fitro que produzir a maior energia na saída, indica com maior certeza qual sinal foi transmitido.\n",
    "\n",
    "\n",
    "No exemplo a seguir é possível transmitir $x1(n)$, $x2(n)$ ou $x3(n)$, no receptor, tem-se três filtros cujas saídas são comparadas para determinar qual sinal foi transmitido."
   ]
  },
  {
   "cell_type": "code",
   "execution_count": 215,
   "metadata": {},
   "outputs": [
    {
     "name": "stdout",
     "output_type": "stream",
     "text": [
      "Transmitido x1\n"
     ]
    },
    {
     "data": {
      "image/png": "[encoded data removed]",
      "text/plain": [
       "<Figure size 640x480 with 1 Axes>"
      ]
     },
     "metadata": {},
     "output_type": "display_data"
    }
   ],
   "source": [
    "import numpy as np\n",
    "import matplotlib.pyplot as plt\n",
    "import scipy as scp\n",
    "\n",
    "def somalista(numeros):\n",
    "    soma = 0\n",
    "    for x in numeros:\n",
    "        soma = x*x + soma\n",
    "    return soma\n",
    "\n",
    "x1 = [1, -1, -1, 1, 1,1,1,1]\n",
    "h1 = [1,1,1,1, 1, -1, -1, 1] #Já no formato h1(n) = x1(-n)\n",
    "\n",
    "x2 = [-1, 1, 1, 1,-1,1,1,1]\n",
    "h2 = [1,1,1,-1, 1, 1, 1, -1]  #Já no formato h2(n) = x2(-n)\n",
    "\n",
    "x3 = [2, 0, 0, 1, 1,1,1,-1]\n",
    "h3 = [-1,1,1,1, 1, 0, 0, 2] #Já no formato h3(n) = x3(-n)\n",
    "\n",
    "\n",
    "# Descomentar para adicionar ruído Gaussiano\n",
    "eta = np.random.normal(0, 0.01, 8)\n",
    "\n",
    "\n",
    "# Sinal recebido\n",
    "r = x1\n",
    "\n",
    "plt.stem(r,label='recebido')\n",
    "\n",
    "# Descomentar para adicionar ruído Gaussiano\n",
    "r = r #+ eta\n",
    "\n",
    "plt.stem(r,label='recebido com ruído')\n",
    "\n",
    "y1 = np.convolve(r, h1)\n",
    "y2 = np.convolve(r, h2)\n",
    "y3 = np.convolve(r, h3)\n",
    "\n",
    "e1 = somalista(y1)\n",
    "e2 = somalista(y2)\n",
    "e3 = somalista(y3)\n",
    "\n",
    "\n",
    "if (e1>e2) and (e1>e3):\n",
    "    print('Transmitido x1')\n",
    "elif (e2>e3):\n",
    "    print('Transmitido x2')\n",
    "else: \n",
    "    print('Transmitido x3')\n",
    "\n",
    "#plt.stem(y,label='xn)',use_line_collection=True,)"
   ]
  },
  {
   "cell_type": "markdown",
   "metadata": {},
   "source": [
    "Vamos medir o desempenho do correlator a medida de que a variância do ruído aumenta. Para tanto, precisamos realizar um conjunto de transmissões e recepcões, contar quantos erros ocorreram para obter a média que será a estimativa da probabilidade de erro."
   ]
  },
  {
   "cell_type": "code",
   "execution_count": 222,
   "metadata": {},
   "outputs": [
    {
     "data": {
      "text/plain": [
       "<StemContainer object of 3 artists>"
      ]
     },
     "execution_count": 222,
     "metadata": {},
     "output_type": "execute_result"
    },
    {
     "data": {
      "image/png": "[encoded data removed]",
      "text/plain": [
       "<Figure size 640x480 with 1 Axes>"
      ]
     },
     "metadata": {},
     "output_type": "display_data"
    }
   ],
   "source": [
    "import numpy as np\n",
    "import matplotlib.pyplot as plt\n",
    "import scipy as scp\n",
    "\n",
    "def somalista(numeros):\n",
    "    soma = 0\n",
    "    for x in numeros:\n",
    "        soma = x*x + soma\n",
    "    return soma\n",
    "\n",
    "Perro = np.zeros(10)\n",
    "N_rep = 10000\n",
    "\n",
    "\n",
    "x1 = [1, -1, -1, 1, 1,1,1,1]\n",
    "h1 = [1,1,1,1, 1, -1, -1, 1] #Já no formato h1(n) = x1(-n)\n",
    "\n",
    "x2 = [-1, 1, 1, 1,-1,1,1,1]\n",
    "h2 = [1,1,1,-1, 1, 1, 1, -1]  #Já no formato h2(n) = x2(-n)\n",
    "\n",
    "x3 = [2, 0, 0, 1, 1,1,1,-1]\n",
    "h3 = [-1,1,1,1, 1, 0, 0, 2] #Já no formato h3(n) = x3(-n)\n",
    "\n",
    "#x1 = [1, 1, 1, 1, 1,1,1,1]\n",
    "#h1 = [1,1,1,1, 1, 1, 1, 1] #Já no formato h1(n) = x1(-n)\n",
    "\n",
    "#x2 = [1, -1, 1, -1,1,-1,1,-1]\n",
    "#h2 = [-1,1,-1,1,-1, 1, -1, 1]  #Já no formato h2(n) = x2(-n)\n",
    "\n",
    "#x3 = [1, -1, -1, 1, 1,-1, -1,-1]\n",
    "#h3 = [-1,-1,-1,1, 1, -1, -1, 1] #Já no formato h3(n) = x3(-n)\n",
    "\n",
    "sigma = 1\n",
    "\n",
    "for sigma_i in range(1,10):\n",
    "    \n",
    "    erro = 0;\n",
    "    \n",
    "    for i in range(1,N_rep):\n",
    "        # Gera ruído Gaussiano\n",
    "        eta = np.random.normal(0, sigma, 8)\n",
    "        \n",
    "        # Sorteia sinal transmitido\n",
    "        sort = np.random.uniform(0,3)\n",
    "\n",
    "        if (sort <1):\n",
    "            tx = x1\n",
    "            entrada = 1 #indice do sinal sorteado\n",
    "        elif (sort<2):\n",
    "            tx = x2\n",
    "            entrada = 2\n",
    "        else:\n",
    "            tx = x3\n",
    "            entrada = 3\n",
    "            \n",
    "        # Gera sinal recebido\n",
    "        rx = tx + eta\n",
    "        \n",
    "        y1 = np.convolve(rx, h1)\n",
    "        y2 = np.convolve(rx, h2)\n",
    "        y3 = np.convolve(rx, h3)\n",
    "        \n",
    "        e1 = somalista(y1)\n",
    "        e2 = somalista(y2)\n",
    "        e3 = somalista(y3)\n",
    "        \n",
    "        \n",
    "        if (e1>e2) and (e1>e3):\n",
    "            saida = 1\n",
    "        elif (e2>e1) and (e2>e3):\n",
    "            saida = 2\n",
    "        else:\n",
    "            saida = 3\n",
    "            \n",
    "        if entrada != saida:\n",
    "            erro = erro + 1\n",
    "    Perro[sigma_i] = erro/N_rep\n",
    "    sigma = sigma + 0.1\n",
    "    \n",
    "plt.stem(Perro)"
   ]
  },
  {
   "cell_type": "markdown",
   "metadata": {},
   "source": [
    "O formato dos sinais também influencia no desempemho do receptor de correlação. Por exemplo, considere qas sequências de Walsh, formadas pelas linhas de uma matriz construiídas de acordo com a seuinte regra\n",
    "$$H_0 = [1]$$\n",
    "$$H_i = \\left[\\begin{array}{c c} H_{i-1} & H_{i-1} \\\\ H_{i-1} & -H_{i-1}\\end{array}\\right]$$\n",
    "\n",
    "Como exemplo, uma matriz $4 \\times 4$ tem o formato:\n",
    "$$H_{2} = \\left[\\begin{array}{c c c c} 1 & 1 & 1 & 1 \\\\ 1 & -1 & 1 & -1 \\\\ 1 & 1 & -1 & -1 & \\\\ 1  & -1 & -1 & 1 \\end{array}\\right]$$\n",
    " \n",
    " E pode-se obter 4 sinais $x_1(n) = [1\\ 1\\ 1\\ 1]$, $x_2(n) = [1\\ -1\\ 1 \\ -1]$, $x_2(n) = [1\\ 1\\ -1\\ -1]$ e $x_4(n) = [1\\ -1\\ -1\\ 1]$, que são ortogonais $x_i(n).x_j(n)^T = 0$."
   ]
  },
  {
   "cell_type": "markdown",
   "metadata": {},
   "source": [
    "Como outra aplicação da convolução temos a multiplicação de polinômios. Vamos fazer a multiplicação dos polinômios $p(x) = 1 + x + x^2$ e $q(x) = 2 - x - x^2$."
   ]
  },
  {
   "cell_type": "code",
   "execution_count": null,
   "metadata": {},
   "outputs": [],
   "source": []
  }
 ],
 "metadata": {
  "kernelspec": {
   "display_name": "Python 3 (ipykernel)",
   "language": "python",
   "name": "python3"
  },
  "language_info": {
   "codemirror_mode": {
    "name": "ipython",
    "version": 3
   },
   "file_extension": ".py",
   "mimetype": "text/x-python",
   "name": "python",
   "nbconvert_exporter": "python",
   "pygments_lexer": "ipython3",
   "version": "3.9.6"
  }
 },
 "nbformat": 4,
 "nbformat_minor": 2
}
