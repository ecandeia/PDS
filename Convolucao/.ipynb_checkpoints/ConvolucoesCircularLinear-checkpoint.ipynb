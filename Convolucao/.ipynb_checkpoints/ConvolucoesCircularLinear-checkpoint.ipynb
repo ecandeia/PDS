{
 "cells": [
  {
   "cell_type": "markdown",
   "id": "9de41b30",
   "metadata": {},
   "source": [
    "## <font color='blue'> Deslocamento Circular de uma Sequência </font>\n",
    "\n",
    "Se $X(e^{j\\omega})$ é a Transformada de Fourier no Tempo Discreto de $x(n)$, então $e^{-j\\omega n}X(e^{j\\omega n})$ é a Transformada de Fourier de $x(n-m)$.\n",
    "\n",
    "Entretanto, definimos a Transformada Discreta de Fourier $X[k]$ para um sequência finita, logo não faz sentido em falar que $e^{-j\\frac{2\\pi k}{N}m}X[k]$ não pode ser Transformada de $x(n)$ deslocada, pois o resultado tem que ser de tamanho $N$.\n",
    "\n",
    "Nesse caso, o deslocamento é circular, ou seja, obtém-se o sinal $x_1(n) = x[(n-m)\\mod N]$ \n"
   ]
  },
  {
   "cell_type": "markdown",
   "id": "fa18556e",
   "metadata": {},
   "source": [
    "![fig812Oppenheim2aEdicao](Figuras/fig812Oppenheim2aEdicao.png)"
   ]
  },
  {
   "cell_type": "markdown",
   "id": "58112066",
   "metadata": {},
   "source": [
    " Da mesma forma que ocorre o deslocamento circular, a convolução de $x(n)$ com $h(n)$ para obter $y(n)$, na frequência dada por $Y[k] = X[k]H[k]$ é circular, e dada por\n",
    "$\n",
    "y(n)  =\\sum\\limits_{m=0}^{N-1}x(m)h[(n-m)\\mod N]\n",
    "$\n",
    "\n",
    "**Exemplo:** $x(n) = \\delta(n - n_0)$, e sinal mostrado abaixo"
   ]
  },
  {
   "cell_type": "markdown",
   "id": "23b5e966",
   "metadata": {},
   "source": [
    "![fig814Oppenheim2aEdicao](Figuras/fig814Oppenheim2aEdicao.png)"
   ]
  },
  {
   "cell_type": "markdown",
   "id": "433f3fc2",
   "metadata": {},
   "source": [
    "## <font color='blue'> Convolução Linear usando a Convolução Circular </font>\n",
    "\n",
    "Pode ser implementada fazendo:\n",
    "1. Calcular a DFT de $N$ pontos $X[k]$ e $H[k]$ das sequências $x(n)$ e $h(n)$.\n",
    "2. Calcular o produto $Y[k] = X[k]H[k]$ para $ 0 \\leq k \\leq N-1$.\n",
    "3. Calcule a DFT inversa de $Y[k]$ para obter $y(n)$.\n",
    "\n",
    "A questão é como garantir que a convolução circular tem o mesmo efeito da convolução linear.\n",
    "\n",
    " \n",
    "O processo de amostrar na frequência implica que a sequência no tempo é periódica;\n",
    "\n",
    "Logo, o procedimento para obter a convolução baseado na transformada de duas sequências para o domínio da frequência, é multiplicar e depois realizar a transformada inversa resulta numa convolução circular;\n",
    "\n",
    "Filtragem é um processo de convolução linear, portanto se usarmos o métido da DFT para filtrar fica a dúvida de como obté-la a partir de uma convolução circular."
   ]
  },
  {
   "cell_type": "markdown",
   "id": "734de2a5",
   "metadata": {},
   "source": [
    "#### Convolução Linear.\n",
    " \n",
    " Voltemos a expressão da convolução circular entre $x(n)$ e $h(n)$, dada por\n",
    "$$y(n) = \\sum_{k=0}^{N-1}x(k)h(n-k) = \\sum_{k=0}^{n}x(k)h(n-k) + \\sum_{l=n+1}^{N-1}x(k)h(n-k+N),\\ 0\\leq n\\leq N $$\n",
    " Para obter a convolução linear devemos zerar o segundo termo do somatório, ou seja,\n",
    "$$\n",
    "\\sum_{k=n+1}^{N-1}x(k)h(n-k+N) = 0,\\ 0\\leq n\\leq N-1.\n",
    "$$\n",
    " \n",
    " \n",
    "\n",
    "#### Convolução Linear usando a Convolução Circular\n",
    " \n",
    " Assumindo que $x(n)$ **tem compimento $L$** e $h(n)$ **tem comprimento $M$**, para que a soma anterior seja nula um dos dois deve ser zero no intervalo do somatório, isto é\n",
    "$$ \n",
    "x(n) = 0, \\ n > L-1\\ e\\ h(n) =0,\\  n > M-1.\n",
    "$$\n",
    "então\n",
    "$$\n",
    " \\sum_{k=n+1}^{N-1}x(k)h(n-k+N) = 0,\\ 0\\leq n\\leq N-1.\n",
    "$$\n",
    " quando $k  \\geq L$, pois nesses casos  $x(k) = 0$ ou $n-k+N \\geq M$, pois $h(n-k+N) = 0$. Juntando as condições\n",
    "$$\n",
    "k  \\geq L \\ e\\ n - k + N \\geq M\n",
    "$$\n",
    "e como $0 \\leq n \\leq N-1$, quando $n=0$ chega-se a condição\n",
    "$$\n",
    "N \\geq M + L -1\n",
    "$$\n",
    "  \n",
    "\n",
    " A condição\n",
    "$$\n",
    "N \\geq M + L -1\n",
    "$$\n",
    "implica em completar:\n",
    " \n",
    " - $x(n)$ com $M-1$ zeros;\n",
    " - $h(n)$ com $L-1$ zeros.\n",
    " \n",
    " \n",
    "**Exemplo:** Sejam $x(n) = \\{1.1, 0.9, 1.1, 0.9 \\}$ e $h(n) = \\{0.5, -0.5\\}$, determine a convolução linear.\n",
    "  \n",
    "\n",
    "Sejam $x(n) = \\{1.1, 0.9, 1.1, 0.9 \\}$, $L = 4$ e $h(n) = \\{0.5, -0.5\\}$, $M=2$. Escolhendo $N=4$\n",
    " $$y(n)  =\\sum\\limits_{m=0}^{3}x(m)h[(n-m)\\mod 4]$$\n",
    "\n",
    "$$\n",
    "y(0) =  \\sum_{m=0}^{3}x(m)h(-m\\ mod\\ 4)\n",
    "      =  x(0)h(0)  + x(1)h(3) + x(2)h(2) \n",
    "      +  x(3)h(1)\n",
    "$$\n",
    "$$\n",
    "y(1) =  \\sum_{m=0}^{3}x(m)k((1-m)\\ mod\\ 4)  \n",
    "     = x(0)h(1) + x(1)h(0) + x(2)h(3) + x(3)h(2)  \n",
    "$$\n",
    "$$\n",
    "y(2) =  \\sum_{m=0}^{3}x(m)k((2-m)\\ mod\\ 4)  \n",
    "     = x(0)h(2) + x(1)h(1) + x(2)h(0) + x(3)h(3)  \n",
    "$$\n",
    "$$\n",
    "y(3) =  \\sum_{m=0}^{3}x(m)k((3-m)\\ mod\\ 4) \n",
    "     = x(0)h(3) + x(1)h(2) + x(2)h(1) +x(3)h(0) \n",
    "$$ \n",
    " \n",
    "\n",
    "\n",
    "Sejam $x(n) = \\{1.1, 0.9, 1.1, 0.9 \\}$, $L = 4$ e $h(n) = \\{0.5, -0.5\\}$, $M=2$.\n",
    "\n",
    "Nesse caso $N \\geq 4 + 2 -1 \\geq 5$. Escolheremos $N=5$ logo $x(n) = \\{1.1, 0.9, 1.1, 0.9, 0 \\}$,  $h(n) = \\{0.5, 0.5, 0, 0, 0\\}$\n",
    "\n",
    "Temos $y(n) = \\sum_{k=0}^{4}x(k)h(n-k\\ mod\\ 5)$:\n",
    "$$\n",
    "y(0) = \\sum_{m=0}^{4}x(m)h(-m\\ mod\\ 5) = x(0)h(0) + x(1) h(-1\\ mod\\ 5) + x(2)h(-2\\ mod\\ 5) + x(3)h(-3\\ mod\\ 5) \n",
    "= x(0)h(0) + x(1)h(4) +x(2)h(3) + x(3)h(2) + x(4) h(1) = x(0)h(0) = 0.55. \n",
    "$$\n",
    "$$\n",
    "y(1) = \\sum_{k=0}^{3}x(k)k(1-k) = x(0)h(1) + x(1) h(0) + x(2)h(-1) + x(3)h(-2) \n",
    "= x(0)h(1) + x(1)h(0) = 1.\n",
    "$$ \n",
    "\n",
    "Vamos fazer a multiplicação dos polinômios $p(x) = 1 + x + x^2$ e $q(x) = 2 - x - x^2$."
   ]
  },
  {
   "cell_type": "code",
   "execution_count": 1,
   "id": "736fd430",
   "metadata": {},
   "outputs": [
    {
     "name": "stderr",
     "output_type": "stream",
     "text": [
      "/Users/edmargurjao/Library/Python/3.9/lib/python/site-packages/numpy/ma/core.py:3375: ComplexWarning: Casting complex values to real discards the imaginary part\n",
      "  _data[indx] = dval\n",
      "/Users/edmargurjao/Library/Python/3.9/lib/python/site-packages/matplotlib/cbook/__init__.py:1335: ComplexWarning: Casting complex values to real discards the imaginary part\n",
      "  return np.asarray(x, float)\n"
     ]
    },
    {
     "data": {
      "text/plain": [
       "<StemContainer object of 3 artists>"
      ]
     },
     "execution_count": 1,
     "metadata": {},
     "output_type": "execute_result"
    },
    {
     "data": {
      "image/png": "[encoded data removed]",
      "text/plain": [
       "<Figure size 640x480 with 1 Axes>"
      ]
     },
     "metadata": {},
     "output_type": "display_data"
    }
   ],
   "source": [
    "## Implementa a convolução vi FFT\n",
    "# Versão 20/03/2024\n",
    "\n",
    "import numpy as np\n",
    "import matplotlib.pyplot as plt\n",
    "\n",
    "# Sinais formados por uns\n",
    "x1 = np.ones(4)\n",
    "x2 = np.ones(3)\n",
    "\n",
    "# Acresecentando zeros\n",
    "#x1 = np.append(x1)\n",
    "x2 = np.append(x2,[0])\n",
    "\n",
    "\n",
    "plt.title(\"Resultado da convolução\")\n",
    "#plt.ylabel(\"Sinc(n)\")\n",
    "plt.xlabel(\"n\")\n",
    "\n",
    "X1_k = np.fft.fft(x1)\n",
    "X2_k = np.fft.fft(x2)\n",
    "\n",
    "X3_k = X1_k*X2_k;\n",
    "\n",
    "x3_n = np.fft.ifft(X3_k)\n",
    "\n",
    "plt.stem(x3_n)"
   ]
  },
  {
   "cell_type": "markdown",
   "id": "26bf6254",
   "metadata": {},
   "source": [
    "## <font color='blue'> Método Overlapp and add </font>\n",
    "\n",
    "Vimos que para obter a convolução linear de dois sinais $x(n)$ de comprimento $M$ e $h(n)$ de comprimento $L$ no tempo discreto temos que fazê-los ter comprimento $N = M + L -1$.\n",
    "\n",
    "Convolução é normalmente utilizadas para filtragem, então um dos sinais tem comprimento finito;\n",
    "\n",
    "Entretanto, o outro sinal pode ter comprimento infinito é necessário particioná-la em blocos para realizar a convolução.\n",
    "\n",
    "Consideremos que $x(n)$ tem comprimento muito grande comparado com $h(n)$, então podemos particionar fazendo\n",
    "$$\n",
    "x_m(n) = \\left\\{\\begin{array}{c c} X(n - mM_0) & para\\ 0 \\leq n \\leq M-1\\ e\\ m=0, 1, 2, 3, .... \\\\ 0, & c.c \\end{array}\\right.\n",
    "$$\n",
    " \n",
    " \n",
    "\n",
    " Dessa forma fazendo $N = M_0 + L -1$ tem-se \n",
    "$$\n",
    "y_m(n) = \\sum_{k=0}^{N-1}x_m(k)h(n-k),\\ para\\ 0 \\leq n \\leq N-1\n",
    "$$\n",
    "como a convolução do $m$ bloco de $x(n)$ com $h(n)$.\n",
    "\n",
    "A sequência de entrada pode ser escrita como\n",
    "$$\n",
    "x(n) = \\sum_{m}^{\\infty}x_m(n - mM_0)\n",
    "$$\n",
    "e pelo princípio da sobreposição\n",
    "$$\n",
    "y(n) = \\sum_{m}^{\\infty}y_m(n - mM_0)\n",
    "$$\n",
    " \n",
    " \n",
    " \n",
    " Como $N = M + L -1 > M$ então haverá sobreposições dos sucessivos $y_m(n)$, essa sobreposições precisam ser somadas, dai surge o método overlapp and add.\n",
    " \n",
    " ![DinizSlidesFig4](Figuras/DinizSlidesFig4.png)\n",
    " \n",
    "\n",
    " \n",
    "**Exemplo:** Sejam os sinais $x(n) = \\{1, -1, 1, -1, 1, -1, 1, -1, 1, -1\\}$ e $h(n) = \\{1, 1\\}$. Vamos analisar a convolução $x(n)*h(n)$ utilizando o método *overlapp-add*.\n",
    "\n",
    "\n",
    "\n",
    "**Exercício:** Seja o sinal \n",
    "$$\n",
    "x(n) = \\cos(2\\pi n/21)\n",
    "$$\n",
    "que é adicionado a interferência\n",
    "$$\n",
    "\\eta(n) = 0,2*(-1)^n\\delta(n)\n",
    "$$\n",
    "produzindo $r(n) = x(n) + \\eta(n)$.\n",
    "\n",
    "Faça a convolução de $r(n)$ com o filtro $h(n) = \\frac{1}{2}\\delta(0) + \\frac{1}{2}\\delta(1)$, pelo menos 5096 amostras de $r(n)$ sendo processadas em blocos de $M_0 = 128$. Desenhe em um mesmo gráfico $r(n)$ e o resultado da convolução."
   ]
  },
  {
   "cell_type": "markdown",
   "id": "ca321f8e",
   "metadata": {},
   "source": [
    "## Identificação de Sistemas\n",
    "\n",
    "Seja a situação em que aplicamos um sinal de $x(n)$, observamos a saída $y(n)$ mas não conhecemos a resposta ao impulso $h(n)$. Neste caso, se lambramos que\n",
    "$$y(n) = h(0)x(n) + h(1)x(n-1) + ....$$\n",
    "quando $n=0$ temos que \n",
    "$$h(0) = \\frac{y(0)}{x(0)}.$$\n",
    "\n",
    "Seguindo essa mesma lógica podemos escrever\n",
    "$$y(n) = h(n)x(0) + \\sum_{m=0}^{N-2}h(m)x(n-m)$$\n",
    "e com isso oter\n",
    "$$ h(n) = \\frac{y(n) - \\sum_{m=0}^{N-2}h(m)x(n-m)}{h(0)}\\ n \\geq 1, n\\neq 0$$\n",
    "\n",
    "**Exemplo:** Seja $x(n) = \\{1, 1, 1, 1\\}$ a entrada de um sistema que produz $y(n) = \\{1,3, 6, 6, 5, 3\\}$ determine $h(n)$."
   ]
  },
  {
   "cell_type": "code",
   "execution_count": null,
   "id": "ce21090d",
   "metadata": {},
   "outputs": [],
   "source": []
  }
 ],
 "metadata": {
  "kernelspec": {
   "display_name": "Python 3 (ipykernel)",
   "language": "python",
   "name": "python3"
  },
  "language_info": {
   "codemirror_mode": {
    "name": "ipython",
    "version": 3
   },
   "file_extension": ".py",
   "mimetype": "text/x-python",
   "name": "python",
   "nbconvert_exporter": "python",
   "pygments_lexer": "ipython3",
   "version": "3.9.6"
  }
 },
 "nbformat": 4,
 "nbformat_minor": 5
}
