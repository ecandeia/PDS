{
 "cells": [
  {
   "cell_type": "markdown",
   "metadata": {},
   "source": [
    "# <font color=#0000ff>Transformada Discreta de Fourier</font>"
   ]
  },
  {
   "cell_type": "markdown",
   "metadata": {},
   "source": [
    "Lembrando que se $x(n)$ é  um sinal no tempo de discreto e aperiódico, sua Transformada de Fourier é dada por\n",
    "$$\n",
    "X(e^{j\\omega}) = \\sum_{n=-\\infty}^{\\infty}x[n]e^{-j\\omega n}\n",
    "$$\n",
    "e a  inversa \n",
    "$$\n",
    "x(n) = \\frac{1}{2\\pi}\\int_{2\\pi}X(e^{j\\omega})e^{j\\omega n}d\\omega\n",
    "$$\n",
    "$X(e^{j\\omega})$ é uma função contínua de $\\omega$.\n",
    "\n",
    "**Exemplo:** Seja o sinal\n",
    "$$\n",
    "x(n) = \\left\\{ \n",
    "\\begin{array}{c c}\n",
    "1, & 0 \\leq n < L \\\\ 0, & c.c.\n",
    "\\end{array}\n",
    "\\right.\n",
    "$$\n",
    "que é limitado no tempo com apenas $L$ valores constantes e não nulos. Calculando a Transformada de Fourier para $L=8$ obtemos\n",
    "$$\n",
    "X(e^{j\\omega}) = \\frac{e^{-j8\\omega} - 1}{e^{-j\\omega} - 1}\n",
    "$$\n",
    "cujo módulo está representado na Figura abaixo\n",
    "\n",
    "![ModuloEspetroPortaDiscreta](Figuras/ModuloEspetroPortaDiscreta.png)\n",
    "\n",
    "\n",
    "O módulo representado na figura acima é uma função contínua de $\\omega$, e para realizar a análise espectral usando um processador digital, devemos amostrá-la, o que nos leva a questão de quantas amostras devem ser obtidas.\n",
    "\n",
    "Por exemplo, se escolhermos $N = 8$, vamos amostras tomar nas frequências $\\omega_k = 2\\pi k/N$ e obteremos os valores calculados abaixo."
   ]
  },
  {
   "cell_type": "markdown",
   "metadata": {},
   "source": [
    "Podemos escrever\n",
    "$$\n",
    "X[k] = X(e^{j\\omega})|_{\\omega=\\frac{2\\pi k}{N}},\\ k=0,1,2,..., N-1\n",
    "$$\n",
    "e como $X(e^{j\\omega})$ é periódica, basta tomar amostras no intervalo de 0 a $2\\pi$.\n",
    "\n",
    "Estamos considerando que o sinal $x(n)$ tem $L$ valores ($x[n] = 0$ para $n < 0 $ e $N\\geq L$), ao tomar $N$ amostas do espectro temos\n",
    "$$\n",
    "X[k] = X(e^{j\\frac{2\\pi k}{N}}) = \\sum\\limits_{n=0}^{N-1}x[n]e^{-j\\frac{2\\pi k}{N}n}\n",
    "$$\n",
    "ou ainda como\n",
    "$$\n",
    "X[k] =\\left\\{ \\begin{array}{c c} \\sum\\limits_{n=0}^{N-1}x[n]W_N^{kn} & k = 0,1, ..., N-1 \\\\\n",
    "0, & c.c\n",
    "\\end{array}\n",
    "\\right.\n",
    "$$\n",
    "e\n",
    "$$\n",
    "x[n] = \\left\\{ \\begin{array}{c c} \\frac{1}{N}\\sum\\limits_{k=0}^{N-1}X[k]W_{N}^{-kn}, & n = 0,1,...,N-1 \\\\ 0, & c.c.  \\end{array}\\right.\n",
    "$$\n",
    "sendo $W_N = e^{-j\\frac{2\\pi}{N}}$.\n"
   ]
  },
  {
   "cell_type": "code",
   "execution_count": 4,
   "metadata": {},
   "outputs": [
    {
     "name": "stdout",
     "output_type": "stream",
     "text": [
      "[8.        +0.j         7.99937098-0.08393216j 7.99748411-0.16784321j ...\n",
      " 7.99433995+0.25171202j 7.99748411+0.16784321j 7.99937098+0.08393216j]\n"
     ]
    },
    {
     "data": {
      "text/plain": [
       "[<matplotlib.lines.Line2D at 0x10da99970>]"
      ]
     },
     "execution_count": 4,
     "metadata": {},
     "output_type": "execute_result"
    },
    {
     "data": {
      "image/png": "[encoded data removed]",
      "text/plain": [
       "<Figure size 640x480 with 1 Axes>"
      ]
     },
     "metadata": {},
     "output_type": "display_data"
    }
   ],
   "source": [
    "import numpy as np\n",
    "from matplotlib import pyplot as plt\n",
    "\n",
    "x = [1, 1, 1, 1, 1, 1, 1, 1]\n",
    "X_k = np.fft.fft(x,2096)\n",
    "\n",
    "print(X_k)\n",
    "\n",
    "plt.plot(np.abs(X_k))\n"
   ]
  },
  {
   "cell_type": "markdown",
   "metadata": {},
   "source": [
    "Que representados no gráfico nos dão:\n",
    "\n",
    "![ModuloEspetroPortaDiscreta_SampledN8](Figuras/ModuloEspetroPortaDiscreta_SampledN8.png)\n",
    "\n",
    "Os pontos em vermelho representam as amostras, e essa sequência de valores é a Transformada Discreta de Fourier (DFT - *Discrete Fourier Transform*) do sinal.\n",
    "\n",
    "Em essência, a DFT é um mapeamento da representação do sinal no tempo discreto para o espectro em função de uma variável discreta."
   ]
  },
  {
   "cell_type": "markdown",
   "metadata": {},
   "source": [
    "O sinal $x[n]$ obtido a partir da transformada inversa tem $n = 0, ..., N-1$ posições, e consideramos que para $n \\geq N$, $x(n) = 0$. \n",
    "<p>\n",
    "Entretanto na inversa aparece $W_N$ que é uma função periódica com período $N$, logo a sequência recuperada no tempo discreto será periódica com período $N$, por isso é necessário limitá-la nos primeiros $N$ pontos.\n",
    "    <p>\n",
    "    Outro fator a se destacar é que originalmente o sinal $x(n)$ tem $L$ valores, e na definição de $X[k]$ foi utilizada a variável $N$ que pode ser diferente de $L$."
   ]
  },
  {
   "cell_type": "markdown",
   "metadata": {},
   "source": [
    "O parâmetro $N$ é o passo que a função $H(e^{j\\omega})$ será amostrada, ou seja, como o intervalo $2\\pi$ será dividida ($2\\pi/N$);\n",
    "<p>\n",
    "Ao aplicar a transformada inversa em $X(k)$ se obtém um sinal $\\hat{x}(n)$ que é periódico cujos valores se repetem a cada $N$;\n",
    "<p>\n",
    "Dessa forma, ao fazer $N>L$, o que implica em tomar além dos $L$ primeiros valores de $x(n)$ outros $N-L$ valores que são zero na equação\n",
    "$$\n",
    "X[k] = X(e^{j\\frac{2\\pi k}{N}}) = \\sum\\limits_{n=0}^{L-1}x[n]e^{-j\\frac{2\\pi k}{N}n}\n",
    "$$\n",
    "melhorará a representação espectral, pois os intervalos $2\\pi/N$ serão menores e assim mais detalhes serão tomados, além do que no tempo as cópias de $x(n)$ em $\\hat{x}(n)$ estarão mais espaçadas.\n",
    "<p>\n",
    "- O fato de utilizar valores $x(n) = 0$, $L \\leq n \\leq N-1$ no somatório da Equação acima não contribuirá com novos valores, porém fará com que os valores não nulos quando $0 \\leq n \\leq < L-1$ seja ponderados por exponenciais $e^{-j\\frac{2\\pi}{N}}$ menos a medida que $N$ aumenta, modificando assim o valor final de $X(k)$.\n",
    "<p>\n",
    "- Assim aumentar o valor de $N$ não traz problema para a representação espectral de $x(n)$, porém implica em mais processamento."
   ]
  },
  {
   "cell_type": "markdown",
   "metadata": {},
   "source": [
    "**Exemplo:** Voltemos ao sinal\n",
    "$$\n",
    "x[n] =  \\left\\{ \\begin{array}{c c} 1, & n = 0,1,...,8 \\\\ 0, & c.c.  \\end{array}\\right.\n",
    "$$\n",
    "tem-se\n",
    "$$\n",
    "X[k] = \\sum_{n=0}^{7}e^{-j(\\frac{2\\pi k}{8})n} = \\frac{ e^{-j2\\pi k} - 1}{ e^{-j(2\\pi k/8)}-1}\n",
    "=\\left\\{\\begin{array}{c c}8, & k = 0, \\pm8, \\pm 16, ... \\\\ 0, c.c\\end{array}\\right.\n",
    "$$\n",
    "\n",
    "![ModuloEspetroPortaDiscreta_SampledN8valores](Figuras/ModuloEspetroPortaDiscreta_SampledN8valores.png)\n",
    "\n",
    "Observando a figura acima, vemos que vários valores dr $X(eˆ{j\\omega n})$ não foram registrados.\n",
    "\n",
    "Fazendo $N = 16$: $X[k] = \\sum_{n=0}^{15}e^{-j(\\frac{2\\pi 8k}{16})n} = \\frac{e^{-j2\\pi k} -1}{e^{-j(2\\pi k/16)-1}}$ e tem-se as amostras representadas na figura abaixo.\n",
    "\n",
    "![ModuloEspetroPortaDiscreta_SampledN16valores](Figuras/ModuloEspetroPortaDiscreta_SampledN16valores.png)\n",
    "\n",
    "O que acontece se aumentarmos para $N = 32, 64, 128$ ?"
   ]
  },
  {
   "cell_type": "markdown",
   "metadata": {},
   "source": [
    "### Transformada Inversa\n",
    "\n",
    "Vamos observar o caminho inverso, ou seja, dado um $X(k)$ qual $x(n)$ é obtido? Tomemos $X(k)$ para sinal retangular dos exemplos anteriores com $L=8$ e $N=8$.\n",
    "\n",
    "Aplicando a transformada inversa obtemos\n",
    "$$\n",
    "\\hat{x}(n) = \\frac{1}{8}\\sum_{k=0}^{7}X(k)e^{j\\frac{2\\pi}{N}kn} = \\frac{1}{8}.8 = 1.\n",
    "$$\n",
    "\\item O sinal recuperado $\\hat{x}(n)$ é periódico. Porém como $x(n) = \\hat{x}(n)$, $0 \\leq n < L$ obtem-se o sinal original.\n",
    "\\item Fazendo o mesmo para $N=16$ chega-se a\n",
    "$$\n",
    "\\hat{x}(n) = \\frac{1}{16}\\sum_{k=0}^{15}X(k)e^{j\\frac{2\\pi}{16}kn} \n",
    "$$\n",
    "cujo sinal está representado na Figura abaixo.\n",
    "\n",
    "![SinalPortaRecuperadoTransformadaDiscretaN16](Figuras/SinalPortaRecuperadoTransformadaDiscretaN16.png)\n",
    "\n",
    "- Que também é periódico, agora com período $N=16$, do qual se obtém $x(n)$ ao tomar os $L=8$ primeiros valores."
   ]
  },
  {
   "cell_type": "markdown",
   "metadata": {},
   "source": [
    "### Representação matricial\n",
    "\n",
    "Vamos iniciar relembrando que a Transformada Discreta de Fourier (DFT) é uma representação **discreta** do espectro de frequências de sinais no tempo discreto $x(n)$, cuja expressão é dada por: $$X[k] = \\sum\\limits_{n=0}^{N-1}x(n)W_N^{kn},$$"
   ]
  },
  {
   "cell_type": "markdown",
   "metadata": {},
   "source": [
    " sendo $$W_N = e^{-j\\frac{2\\pi}{N}}.$$\n",
    "\n",
    "Para um determinado $k$ temos\n",
    "\n",
    "$$X[k] = x(0)e^{-j\\frac{2\\pi.k.0}{N}} + x(1)e^{-j\\frac{2\\pi.k.1}{N}} + ... + x(N-1)e^{-j\\frac{2\\pi.k.(N-1)}{N}}$$\n",
    "que pode ser escrita como\n",
    "$$X[k] = \\begin{bmatrix}1 & e^{-j\\frac{2\\pi.k}{N}} & ... & e^{-j\\frac{2\\pi.k.(N-1)}{N}}\\end{bmatrix}\\begin{bmatrix}x(0) \\\\ x(1) \\\\ x(2) \\\\ ... \\\\ x(N-1)\\end{bmatrix}$$\n",
    "estendendo essa representação pra todos os valore de $k$ obtemos\n",
    "$${\\bf X} = \\begin{bmatrix} 1 & 1 & 1 & ... & 1 \\\\1 & e^{-j\\frac{2\\pi}{N}} & e^{-j\\frac{2\\pi.2}{N}} & ... & e^{-j\\frac{2\\pi.(N-1)}{N}} \\\\ ... \\\\ 1 & e^{-j\\frac{2\\pi(N-1)}{N}} & e^{-j\\frac{2\\pi.2(N-1)}{N}} & ... & e^{-j\\frac{2\\pi.(N-1)(N-1)}{N}}\\end{bmatrix}\\begin{bmatrix} x(0) \\\\ x(1) \\\\ ... \\\\ X(N-1) \\end{bmatrix}$$\n",
    "\n",
    "Logo é possível cacular a DFT usando uma multiplicação matricial. A vantagem desse metodo é que ele é útil em sistemas baseados em representação matricial, Ex. MATLAB, hardware dedicado.\n",
    "\n",
    "A desvantagem está no armazenamento dos dados, ou seja da matriz."
   ]
  },
  {
   "cell_type": "markdown",
   "metadata": {},
   "source": [
    "Observando o desenvolvimento acima, vemos que para calcular cada valor $X[k]$ são necessários\n",
    "1. $N$ multiplicações complexas, e\n",
    "2. $N-1$ adições complexas.\n",
    "\n",
    "\n",
    "Para obter todos os coeficientes $X[k]$, $k = 0, ..., N-1$ são necessários\n",
    "1. $N^2$ multiplicações complexas, e\n",
    "2. $(N-1)N$ adições complexas.\n",
    "\n",
    "Por isso dizemos que a DFT tem complexidade $O(N^2)$, cujo comportamento está ilustrado no gráfico abaixo."
   ]
  },
  {
   "cell_type": "code",
   "execution_count": 3,
   "metadata": {},
   "outputs": [
    {
     "data": {
      "text/plain": [
       "Text(0, 0.5, '$O(N^2)$')"
      ]
     },
     "execution_count": 3,
     "metadata": {},
     "output_type": "execute_result"
    },
    {
     "data": {
      "image/png": "[encoded data removed]",
      "text/plain": [
       "<Figure size 432x288 with 1 Axes>"
      ]
     },
     "metadata": {
      "needs_background": "light"
     },
     "output_type": "display_data"
    }
   ],
   "source": [
    "import numpy as np\n",
    "import matplotlib.pyplot as mplib\n",
    "N = 128;\n",
    "n = range(2,N-1)\n",
    "mplib.plot(n, np.power(n, 2))\n",
    "mplib.xlabel('N')\n",
    "mplib.ylabel('$O(N^2)$')"
   ]
  },
  {
   "cell_type": "markdown",
   "metadata": {},
   "source": [
    "Em 1965, é proposto um algoritmo rápido que reduz a complexidade do calculo da DFT para $O(N.log_2 N)$."
   ]
  },
  {
   "cell_type": "code",
   "execution_count": 6,
   "metadata": {},
   "outputs": [
    {
     "data": {
      "text/plain": [
       "Text(0, 0.5, '$O(\\\\cdot)$')"
      ]
     },
     "execution_count": 6,
     "metadata": {},
     "output_type": "execute_result"
    },
    {
     "data": {
      "image/png": "[encoded data removed]",
      "text/plain": [
       "<Figure size 432x288 with 1 Axes>"
      ]
     },
     "metadata": {
      "needs_background": "light"
     },
     "output_type": "display_data"
    }
   ],
   "source": [
    "import numpy as np\n",
    "\n",
    "import matplotlib.pyplot as mplib\n",
    "N = 16;\n",
    "n = range(2,N-1)\n",
    "mplib.plot(n, np.power(n, 2))\n",
    "mplib.plot(n, n*np.log2(n))\n",
    "#mplib.legend('(N^2)','N.log_2(N)')\n",
    "mplib.xlabel('N')\n",
    "mplib.ylabel('$O(\\cdot)$')\n"
   ]
  },
  {
   "cell_type": "markdown",
   "metadata": {},
   "source": [
    "Esses algoritmos ficaram conhecidos como **Transformada Rápida de Fourier**, ou simplesmente **FFT** de Fast Fourier Transform."
   ]
  },
  {
   "cell_type": "markdown",
   "metadata": {},
   "source": [
    "Antes de avançar, vamos observar o comportamento da quantidade $W_N = e^{-\\frac{2\\pi}{N}}$, quem tem\n",
    "1. $|W_N| = 1,\\ \\forall\\ N$,\n",
    "2. $\\angle W_N = atan\\left(\\frac{2\\pi}{N}\\right)$.\n",
    "\n",
    "Pode-se ainda observar que variando o expoente $k$ em $W_N^k$, tem o efeito de dividir o círculo unitário em $N$ partes, como representado a seguir.\n",
    "\n",
    "![title](./Figuras/Circulo.png)\n",
    "\n",
    "\n",
    "Outras caracterísiticas são exploradas pelos algoritmos de FFT:\n",
    "\n",
    "1. Simetria complexa conjugada: $W_N^{k(N-n)} = W_n^{-kn} = (W_N^{kn})^*$, ($()^*$ significa o conjugado complexo), e;\n",
    "2. Periodicidade em $k$ e $n$: $W_N^{kn} = W_N^{k(N + n)} = W_N^{(k + N)n}$.\n",
    "\n",
    "E a decomposição de uma DFT de $N$ pontos em DFTs de tamanhos menores."
   ]
  },
  {
   "cell_type": "markdown",
   "metadata": {},
   "source": [
    "Classes básicas:\n",
    "    \n",
    "1. FFT com decimação no tempo: $x(n)$ é sucessivamente decomposto em sequências menores\n",
    "2. FFT com decimação em frequência : $X[k]$ é decomposto em sequências menores\n",
    "    \n",
    "Algoritmos:\n",
    "    \n",
    "1. Goertzel(1958): $O(N^2)$\n",
    "2. **Cooley-Tukey(1965): Deu origem à decimação no tempo**\n",
    "3. Sande-Tukey(1966): Deu origem à decimação em frequência\n"
   ]
  },
  {
   "cell_type": "markdown",
   "metadata": {},
   "source": [
    "## <font color=#0000ff>FFT por Decimação no tempo</font>"
   ]
  },
  {
   "cell_type": "markdown",
   "metadata": {},
   "source": [
    "Decomposição sucessiva de $x(n)$ em tamanhos menores, e para tanto se convenciona utilizar $N = 2^l$, sendo $l$ um inteiro positivo.\n",
    "\n",
    "### Algoritmo Raiz de 2 com decimação no tempo\n",
    "\n",
    "O sinal $x(n)$ de $N$ pontos é dividido em 2 sequências de $N/2$ pontos, uma relativa aos índices **pares** e outra relativa aos índices **impares**, assim\n",
    "\n",
    "$$X[k] = \\sum\\limits_{n=0}^{N-1}x(n)W_N^{kn}$$\n",
    "\n",
    "após a divisão\n",
    "\n",
    "$$X[k] = \\sum\\limits_{n\\ par}^{N/2-1}x(n)W_N^{kn} + \\sum\\limits_{n\\ ímpar}^{N/2-1}x(n)W_N^{kn}$$\n",
    "\n",
    "fazendo:\n",
    "$n = 2r$ para $n$ par, e $n = (2r + 1)$ para $n$ ímpar,\n",
    "\n",
    "temos\n",
    "\n",
    "$X[k] = \\sum\\limits_{r=0}^{N/2-1}x(2r)W_N^{k2r} + \\sum\\limits_{r=0}^{N/2-1}x(2r+1)W_N^{k(2r+1)}$\n",
    "\n",
    "$X[k] = \\sum\\limits_{r=0}^{N/2-1}x(2r)(W_N^2)^{k r} + W_N^k\\sum\\limits_{r=0}^{N/2-1}x(2r+1)(W_N^2)^{k r}$\n",
    "\n",
    "Como $W_N^2 = W_{N/2}$ temos\n",
    "\n",
    "$X[k] = \\sum\\limits_{r=0}^{N/2-1}x(2r)(W_{N/2})^{k r} + W_N^k\\sum\\limits_{r=0}^{N/2-1}x(2r+1)(W_{N/2})^{k r}$\n",
    "\n",
    "representando as componentes pares e ímpares de $x(n)$ por\n",
    "\n",
    "$x_e(n) = x(2n)$, $n = 0, 1, ..., N/2 -1$, e\n",
    "\n",
    "$x_o(n) = x(2n + 1)$, $n = 0, 1, ..., N/2 -1$\n",
    "\n",
    "Temos\n",
    "\n",
    "$X[k] = \\sum\\limits_{r=0}^{N/2-1}x_e(n)(W_{N/2})^{k r} + W_N^k\\sum\\limits_{r=0}^{N/2-1}x_o(n)(W_{N/2})^{k r}$\n",
    "\n",
    "Vamos chamar:\n",
    "\n",
    "$X_e[k] = \\sum\\limits_{r=0}^{N/2-1}x_e(n)(W_{N/2})^{k r}$,e \n",
    "\n",
    "$X_o[k] = \\sum\\limits_{r=0}^{N/2-1}x_o(n)(W_{N/2})^{k r}$\n",
    "\n",
    "cada uma sendo uma DFT de $N/2$ pontos\n",
    "\n",
    "e\n",
    "\n",
    "$X[k] = X_e[k] + W_N^kX_o[k]$\n",
    "\n",
    "sendo $X_e[k] = X_e[k + N/2]$ e $X_o[k] = X_o[k + N/2]$"
   ]
  },
  {
   "cell_type": "markdown",
   "metadata": {},
   "source": [
    "###  <center><font color=#0000ff> Para $N = 2$ </font></center>\n",
    "\n",
    "Pelo cálculo da DFT temos:\n",
    "\n",
    "$X[0] = \\sum\\limits_{n=0}^{1}x(n)W_2^{0} = x(0) + x(1)$\n",
    "\n",
    "$X[1] = \\sum\\limits_{n=0}^{1}x(n)W_2^{1} = x(0) - x(1)$\n",
    "\n",
    "Usando e FFT temos \n",
    "\n",
    "$X[0] = X_e[0] + W_2^0 X_o[0]$\n",
    "\n",
    "$X[1] = X_e[1] + W_2^1 X_o[1]$\n",
    "<br>\n",
    "<br>\n",
    "nesse caso, como $x(n)$ só tem dois termos $X_e[0] = x_0$ e $X_o[0] = x(1)$, representado na figura a seguir."
   ]
  },
  {
   "cell_type": "markdown",
   "metadata": {},
   "source": [
    "![title](./Figuras/FFTN2.png)"
   ]
  },
  {
   "cell_type": "markdown",
   "metadata": {},
   "source": [
    "###  <center><font color=#0000ff>Para $N = 4$ </font></center>\n",
    "\n",
    "Pelo cálculo da **DFT** temos:\n",
    "\n",
    "$X[0] = \\sum\\limits_{n=0}^{3}x(n)W_4^{0} = x(0) + x(1) + x(2) + x(3) = x(0) + x(2) + x(1) + x(3)$\n",
    "\n",
    "$X[1] = \\sum\\limits_{n=0}^{3}x(n)W_4^{n} = x(0) + x(1)W_4^{1}  + x(2)W_4^{2} + x(3)W_4^{3} =  \n",
    "x(0) - x(2) -j[x(1) - x(3)]$\n",
    "\n",
    "$X[2] = \\sum\\limits_{n=0}^{3}x(n)W_4^{2n} = x(0) + x(1)W_4^{2} + x(2)W_4^{4} + x(3)W_4^{6} = x(0) + x(2) -[x(1) + x(3)]$\n",
    "\n",
    "$X[3] = \\sum\\limits_{n=0}^{3}x(n)W_4^{3n} = x(0) + x(1)W_4^{3} + x(2)W_4^{6} + x(3)W_4^{9} = x(0) - x(2) + j[x(1) - x(3)]$\n",
    "\n",
    "\n",
    "Usando a **FFT** temos \n",
    "\n",
    "$X[0] = X_e[0] + W_4^0 X_o[0] $ \n",
    "\n",
    "$X[1] = X_e[1] + W_4^1 X_o[1]$ \n",
    "\n",
    "$X[2] = X_e[2] + W_4^2 X_o[2] = X_e[0] + W_4^2 X_o[0]$      <font color = \"0000ff\"> Devido a simetria $X[k + N/2] = X[k]$</font>\n",
    "\n",
    "$X[2] = X_e[3] + W_4^3 X_o[3] = X_e[1] + W_4^2 X_o[1]$       <font color = \"0000ff\"> Devido a simetria $X[k + N/2] = X[k]$</font>\n",
    "<br>\n",
    "<br>\n",
    "Observe que $X_e[0] = \\sum\\limits_{n=0}^{1}x(n)W_{N}^{kn}$ sendo esse $n$ os índices pares de $x(n)$, ou seja $x(0)$ e $x(2)$, o mesmo valendo para $X_o[k]$ que é composta pelos índices ímpares."
   ]
  },
  {
   "cell_type": "markdown",
   "metadata": {},
   "source": [
    "![title](./Figuras/TrelicaFFTN4.png)"
   ]
  },
  {
   "cell_type": "markdown",
   "metadata": {},
   "source": [
    "Observando as duas estruturas acima, vemos que para uma FFT de tamanho $N$, são necessários $\\log_2(N)$ estágios, e em cada estágio, a partir dos valores do sinal, são realizadas DFTs de tamanhos $2, 4, 8, ..., N$.\n",
    "\n",
    "Para o primeiro estágio, FFT de tamanho $N_1 = 2$, no cômputo de $X_e[k]$ $k = 0, 1$ usa-se as posições de entrada 0 (quen contém $x(0)$) e 1 (que contém $x(2)$), já $X_o[k]$ usa as posições 2 (que contém $x(1)$) e 3 (que contém $x(3)$), houve um deslocamento de $N_1/2$ na posições de entrada.\n",
    "\n",
    "No segundo estágio, FFTs de tamanho $N_2 = 4$ e nesse caso já o resultado da FFT, $X[k],\\ k = 0,1 2,3$ para cada $k$, envolve as **posições anteriores** $k$ e $(k+ N_2/2) mod\\ N_2$"
   ]
  },
  {
   "cell_type": "markdown",
   "metadata": {},
   "source": [
    "###  <center><font color=#0000ff>  N = 8 </font></center>\n",
    "\n",
    "Para $N = 8$ vamos usar a borboleta otimizada mostrada na Figura abaixo \n",
    "\n",
    "Sendo \n",
    "\n",
    "$X_m[p] = X_{m-1}[p] + W_N^rX_{m-1}[q]$\n",
    "\n",
    "$X_m[q] = X_{m-1}[p] - W_N^r X_{m-1}[q]$"
   ]
  },
  {
   "cell_type": "markdown",
   "metadata": {},
   "source": [
    "Precisamos avaliar como variam $m$, $p$, $q$ e $r$. Inicialmente, vamos atribuir os valore do sinal $x(n)$ ao estágio inicial da treliça, usando a sequência obtida pela inversão da ordem dos bits dos índices de $x(n)$, ou seja:\n",
    "\n",
    "$X_0[0] = x(0)$\n",
    "\n",
    "$X_0[1] = x(4)$\n",
    "\n",
    "$X_0[2] = x(2)$\n",
    "\n",
    "$X_0[3] = x(6)$\n",
    "\n",
    "$X_0[4] = x(1)$\n",
    "\n",
    "$X_0[5] = x(5)$\n",
    "\n",
    "$X_0[6] = x(3)$\n",
    "\n",
    "$X_0[7] = x(7)$\n",
    "\n",
    "e representara a treliça, que tem $log_2(N)$ estágios, no para $N = 8$ teremos 3 estágios, qu estão representados a seguir."
   ]
  },
  {
   "cell_type": "markdown",
   "metadata": {},
   "source": [
    "![title](./Figuras/FFTN8peq.png)"
   ]
  },
  {
   "cell_type": "markdown",
   "metadata": {},
   "source": [
    "Repetindo a treliça apresentando somente os valore de $p$ e $q$ em cada estágio."
   ]
  },
  {
   "cell_type": "markdown",
   "metadata": {},
   "source": [
    "**Questão:** Como implementar um código para um $N$ qualquer?"
   ]
  },
  {
   "cell_type": "code",
   "execution_count": null,
   "metadata": {},
   "outputs": [],
   "source": []
  }
 ],
 "metadata": {
  "kernelspec": {
   "display_name": "Python 3 (ipykernel)",
   "language": "python",
   "name": "python3"
  },
  "language_info": {
   "codemirror_mode": {
    "name": "ipython",
    "version": 3
   },
   "file_extension": ".py",
   "mimetype": "text/x-python",
   "name": "python",
   "nbconvert_exporter": "python",
   "pygments_lexer": "ipython3",
   "version": "3.9.6"
  }
 },
 "nbformat": 4,
 "nbformat_minor": 2
}
